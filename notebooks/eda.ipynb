{
 "cells": [
  {
   "cell_type": "markdown",
   "metadata": {},
   "source": [
    "# Exploratory Data Analysis"
   ]
  },
  {
   "cell_type": "code",
   "execution_count": 1,
   "metadata": {},
   "outputs": [],
   "source": [
    "import pandas as pd\n",
    "import numpy as np \n",
    "import matplotlib.pyplot as plt\n",
    "import seaborn as sns\n",
    "sns.set()"
   ]
  },
  {
   "cell_type": "code",
   "execution_count": 2,
   "metadata": {},
   "outputs": [],
   "source": [
    "air_data = pd.read_csv(\"../data/Qualidade_do_ar_-_Dados_hor%C3%A1rios.csv\")"
   ]
  },
  {
   "cell_type": "code",
   "execution_count": 4,
   "metadata": {},
   "outputs": [
    {
     "data": {
      "text/plain": [
       "Index(['Data', 'CodNum', 'Estação', 'Chuva', 'Pres', 'RS', 'Temp', 'UR',\n",
       "       'Dir_Vento', 'Vel_Vento', 'SO2', 'NO2', 'HCNM', 'HCT', 'CH4', 'CO',\n",
       "       'NO', 'NOx', 'O3', 'PM10', 'PM2_5', 'Lat', 'Lon', 'X_UTM_Sirgas2000',\n",
       "       'Y_UTM_Sirgas2000', 'OBJECTID'],\n",
       "      dtype='object')"
      ]
     },
     "execution_count": 4,
     "metadata": {},
     "output_type": "execute_result"
    }
   ],
   "source": [
    "air_data.columns"
   ]
  },
  {
   "cell_type": "code",
   "execution_count": 15,
   "metadata": {},
   "outputs": [
    {
     "name": "stdout",
     "output_type": "stream",
     "text": [
      "<class 'pandas.core.frame.DataFrame'>\n",
      "RangeIndex: 661662 entries, 0 to 661661\n",
      "Data columns (total 26 columns):\n",
      " #   Column            Non-Null Count   Dtype  \n",
      "---  ------            --------------   -----  \n",
      " 0   Data              661662 non-null  object \n",
      " 1   CodNum            661662 non-null  int64  \n",
      " 2   Estação           661662 non-null  object \n",
      " 3   Chuva             645850 non-null  float64\n",
      " 4   Pres              646368 non-null  float64\n",
      " 5   RS                613402 non-null  float64\n",
      " 6   Temp              591045 non-null  float64\n",
      " 7   UR                551043 non-null  float64\n",
      " 8   Dir_Vento         571164 non-null  float64\n",
      " 9   Vel_Vento         570919 non-null  float64\n",
      " 10  SO2               464874 non-null  float64\n",
      " 11  NO2               271157 non-null  float64\n",
      " 12  HCNM              200083 non-null  float64\n",
      " 13  HCT               199993 non-null  float64\n",
      " 14  CH4               200140 non-null  float64\n",
      " 15  CO                547483 non-null  float64\n",
      " 16  NO                271172 non-null  float64\n",
      " 17  NOx               271131 non-null  float64\n",
      " 18  O3                624529 non-null  float64\n",
      " 19  PM10              625520 non-null  float64\n",
      " 20  PM2_5             71421 non-null   float64\n",
      " 21  Lat               661662 non-null  float64\n",
      " 22  Lon               661662 non-null  float64\n",
      " 23  X_UTM_Sirgas2000  661662 non-null  float64\n",
      " 24  Y_UTM_Sirgas2000  661662 non-null  float64\n",
      " 25  OBJECTID          661662 non-null  int64  \n",
      "dtypes: float64(22), int64(2), object(2)\n",
      "memory usage: 131.3+ MB\n"
     ]
    }
   ],
   "source": [
    "air_data.info()"
   ]
  },
  {
   "cell_type": "code",
   "execution_count": null,
   "metadata": {},
   "outputs": [],
   "source": []
  }
 ],
 "metadata": {
  "kernelspec": {
   "display_name": "machineLearning",
   "language": "python",
   "name": "machinelearning"
  },
  "language_info": {
   "codemirror_mode": {
    "name": "ipython",
    "version": 3
   },
   "file_extension": ".py",
   "mimetype": "text/x-python",
   "name": "python",
   "nbconvert_exporter": "python",
   "pygments_lexer": "ipython3",
   "version": "3.9.4"
  }
 },
 "nbformat": 4,
 "nbformat_minor": 4
}
