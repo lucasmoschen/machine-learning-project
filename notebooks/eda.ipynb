{
 "cells": [
  {
   "cell_type": "markdown",
   "metadata": {},
   "source": [
    "# Exploratory Data Analysis\n",
    "\n",
    "In this notebook, we will explore the air quality data of the city of Rio de Janeiro. From these results, we can gain insights into the machine learning algorithm. We divide the analysis as follows: \n",
    "\n",
    "1. Understading the data: what the data looks like, what are the information we have and what we can use;\n",
    "2. Data exploration: visualizing the data and looking for some patterns; e\n",
    "3. Data cleaning and feature engeneering.\n",
    "\n",
    "## Understanding the data \n",
    "\n",
    "Load the necessary libraries and the data. "
   ]
  },
  {
   "cell_type": "code",
   "execution_count": 1,
   "metadata": {},
   "outputs": [],
   "source": [
    "import pandas as pd\n",
    "import pandas_profiling as pp\n",
    "import numpy as np \n",
    "import matplotlib.pyplot as plt\n",
    "import matplotlib\n",
    "import seaborn as sns"
   ]
  },
  {
   "cell_type": "markdown",
   "metadata": {},
   "source": [
    "## Definitions for the notebook"
   ]
  },
  {
   "cell_type": "code",
   "execution_count": 2,
   "metadata": {},
   "outputs": [],
   "source": [
    "IMAGES_FOLDER = \"../notes/images/\"\n",
    "\n",
    "sns.set()\n",
    "\n",
    "%matplotlib inline"
   ]
  },
  {
   "cell_type": "markdown",
   "metadata": {},
   "source": [
    "## Structure of the dataset"
   ]
  },
  {
   "cell_type": "code",
   "execution_count": 3,
   "metadata": {},
   "outputs": [
    {
     "data": {
      "text/html": [
       "<div>\n",
       "<style scoped>\n",
       "    .dataframe tbody tr th:only-of-type {\n",
       "        vertical-align: middle;\n",
       "    }\n",
       "\n",
       "    .dataframe tbody tr th {\n",
       "        vertical-align: top;\n",
       "    }\n",
       "\n",
       "    .dataframe thead th {\n",
       "        text-align: right;\n",
       "    }\n",
       "</style>\n",
       "<table border=\"1\" class=\"dataframe\">\n",
       "  <thead>\n",
       "    <tr style=\"text-align: right;\">\n",
       "      <th></th>\n",
       "      <th>Data</th>\n",
       "      <th>CodNum</th>\n",
       "      <th>Estação</th>\n",
       "      <th>Chuva</th>\n",
       "      <th>Pres</th>\n",
       "      <th>RS</th>\n",
       "      <th>Temp</th>\n",
       "      <th>UR</th>\n",
       "      <th>Dir_Vento</th>\n",
       "      <th>Vel_Vento</th>\n",
       "      <th>...</th>\n",
       "      <th>NO</th>\n",
       "      <th>NOx</th>\n",
       "      <th>O3</th>\n",
       "      <th>PM10</th>\n",
       "      <th>PM2_5</th>\n",
       "      <th>Lat</th>\n",
       "      <th>Lon</th>\n",
       "      <th>X_UTM_Sirgas2000</th>\n",
       "      <th>Y_UTM_Sirgas2000</th>\n",
       "      <th>OBJECTID</th>\n",
       "    </tr>\n",
       "  </thead>\n",
       "  <tbody>\n",
       "    <tr>\n",
       "      <th>0</th>\n",
       "      <td>2012/01/01 00:30:00+00</td>\n",
       "      <td>2</td>\n",
       "      <td>BG</td>\n",
       "      <td>0.2</td>\n",
       "      <td>1008.15</td>\n",
       "      <td>NaN</td>\n",
       "      <td>24.67</td>\n",
       "      <td>95.24</td>\n",
       "      <td>NaN</td>\n",
       "      <td>NaN</td>\n",
       "      <td>...</td>\n",
       "      <td>2.18</td>\n",
       "      <td>17.36</td>\n",
       "      <td>28.06</td>\n",
       "      <td>81.0</td>\n",
       "      <td>NaN</td>\n",
       "      <td>-22.88791</td>\n",
       "      <td>-43.471074</td>\n",
       "      <td>656828.8045</td>\n",
       "      <td>7.468075e+06</td>\n",
       "      <td>1</td>\n",
       "    </tr>\n",
       "    <tr>\n",
       "      <th>1</th>\n",
       "      <td>2012/01/01 01:30:00+00</td>\n",
       "      <td>2</td>\n",
       "      <td>BG</td>\n",
       "      <td>0.4</td>\n",
       "      <td>1007.13</td>\n",
       "      <td>NaN</td>\n",
       "      <td>24.72</td>\n",
       "      <td>94.13</td>\n",
       "      <td>NaN</td>\n",
       "      <td>NaN</td>\n",
       "      <td>...</td>\n",
       "      <td>1.63</td>\n",
       "      <td>11.12</td>\n",
       "      <td>32.81</td>\n",
       "      <td>61.0</td>\n",
       "      <td>NaN</td>\n",
       "      <td>-22.88791</td>\n",
       "      <td>-43.471074</td>\n",
       "      <td>656828.8045</td>\n",
       "      <td>7.468075e+06</td>\n",
       "      <td>2</td>\n",
       "    </tr>\n",
       "    <tr>\n",
       "      <th>2</th>\n",
       "      <td>2012/01/01 02:30:00+00</td>\n",
       "      <td>2</td>\n",
       "      <td>BG</td>\n",
       "      <td>0.0</td>\n",
       "      <td>1006.32</td>\n",
       "      <td>NaN</td>\n",
       "      <td>24.49</td>\n",
       "      <td>92.91</td>\n",
       "      <td>NaN</td>\n",
       "      <td>NaN</td>\n",
       "      <td>...</td>\n",
       "      <td>1.73</td>\n",
       "      <td>10.47</td>\n",
       "      <td>31.61</td>\n",
       "      <td>26.0</td>\n",
       "      <td>NaN</td>\n",
       "      <td>-22.88791</td>\n",
       "      <td>-43.471074</td>\n",
       "      <td>656828.8045</td>\n",
       "      <td>7.468075e+06</td>\n",
       "      <td>3</td>\n",
       "    </tr>\n",
       "    <tr>\n",
       "      <th>3</th>\n",
       "      <td>2012/01/01 03:30:00+00</td>\n",
       "      <td>2</td>\n",
       "      <td>BG</td>\n",
       "      <td>0.2</td>\n",
       "      <td>1005.82</td>\n",
       "      <td>NaN</td>\n",
       "      <td>24.54</td>\n",
       "      <td>92.59</td>\n",
       "      <td>NaN</td>\n",
       "      <td>NaN</td>\n",
       "      <td>...</td>\n",
       "      <td>1.18</td>\n",
       "      <td>6.68</td>\n",
       "      <td>37.39</td>\n",
       "      <td>20.0</td>\n",
       "      <td>NaN</td>\n",
       "      <td>-22.88791</td>\n",
       "      <td>-43.471074</td>\n",
       "      <td>656828.8045</td>\n",
       "      <td>7.468075e+06</td>\n",
       "      <td>4</td>\n",
       "    </tr>\n",
       "    <tr>\n",
       "      <th>4</th>\n",
       "      <td>2012/01/01 04:30:00+00</td>\n",
       "      <td>2</td>\n",
       "      <td>BG</td>\n",
       "      <td>0.4</td>\n",
       "      <td>1005.45</td>\n",
       "      <td>NaN</td>\n",
       "      <td>24.78</td>\n",
       "      <td>90.71</td>\n",
       "      <td>NaN</td>\n",
       "      <td>NaN</td>\n",
       "      <td>...</td>\n",
       "      <td>0.95</td>\n",
       "      <td>9.35</td>\n",
       "      <td>33.45</td>\n",
       "      <td>7.0</td>\n",
       "      <td>NaN</td>\n",
       "      <td>-22.88791</td>\n",
       "      <td>-43.471074</td>\n",
       "      <td>656828.8045</td>\n",
       "      <td>7.468075e+06</td>\n",
       "      <td>5</td>\n",
       "    </tr>\n",
       "  </tbody>\n",
       "</table>\n",
       "<p>5 rows × 26 columns</p>\n",
       "</div>"
      ],
      "text/plain": [
       "                     Data  CodNum Estação  Chuva     Pres  RS   Temp     UR  \\\n",
       "0  2012/01/01 00:30:00+00       2      BG    0.2  1008.15 NaN  24.67  95.24   \n",
       "1  2012/01/01 01:30:00+00       2      BG    0.4  1007.13 NaN  24.72  94.13   \n",
       "2  2012/01/01 02:30:00+00       2      BG    0.0  1006.32 NaN  24.49  92.91   \n",
       "3  2012/01/01 03:30:00+00       2      BG    0.2  1005.82 NaN  24.54  92.59   \n",
       "4  2012/01/01 04:30:00+00       2      BG    0.4  1005.45 NaN  24.78  90.71   \n",
       "\n",
       "   Dir_Vento  Vel_Vento  ...    NO    NOx     O3  PM10  PM2_5       Lat  \\\n",
       "0        NaN        NaN  ...  2.18  17.36  28.06  81.0    NaN -22.88791   \n",
       "1        NaN        NaN  ...  1.63  11.12  32.81  61.0    NaN -22.88791   \n",
       "2        NaN        NaN  ...  1.73  10.47  31.61  26.0    NaN -22.88791   \n",
       "3        NaN        NaN  ...  1.18   6.68  37.39  20.0    NaN -22.88791   \n",
       "4        NaN        NaN  ...  0.95   9.35  33.45   7.0    NaN -22.88791   \n",
       "\n",
       "         Lon  X_UTM_Sirgas2000  Y_UTM_Sirgas2000  OBJECTID  \n",
       "0 -43.471074       656828.8045      7.468075e+06         1  \n",
       "1 -43.471074       656828.8045      7.468075e+06         2  \n",
       "2 -43.471074       656828.8045      7.468075e+06         3  \n",
       "3 -43.471074       656828.8045      7.468075e+06         4  \n",
       "4 -43.471074       656828.8045      7.468075e+06         5  \n",
       "\n",
       "[5 rows x 26 columns]"
      ]
     },
     "execution_count": 3,
     "metadata": {},
     "output_type": "execute_result"
    }
   ],
   "source": [
    "air_data = pd.read_csv(\"../data/RiodeJaneiro_MonitorAr_hourly.csv\")\n",
    "air_data.head()"
   ]
  },
  {
   "cell_type": "markdown",
   "metadata": {},
   "source": [
    "### Monitored parameters\n",
    "\n",
    "* `Data`: Date of the observation. \n",
    "* `CodNun`: Station code. \n",
    "* `Estação`: One of the monitoring stations given below. \n",
    "* `Chuva`: Rainfall (mm).\n",
    "* `Pres`: Atmospheric Pressure (mbar).\n",
    "* `RS` : Solar radiation (w/m2).\n",
    "* `Temp`: Temperature (° C).\n",
    "* `UR`: Relative humidity (%).\n",
    "* `Dir_Vento`: Wind direction (°)\n",
    "* `Vel_Vento`: Wind speed (m/s)\n",
    "* `Lat`: Latitude position of the station \n",
    "* `Lon`: Longitude position of the station \n",
    "* `X_UTM_Sirgas2000`: Latitude in the Sirgas 2000 referential\n",
    "* `Y_UTM_Sirgas2000`: Longitude in the Sirgas 2000 referential\n",
    "* `OBJECTID`: Enumeration\n",
    "\n",
    "### Stations and monitored gases\n",
    "---\n",
    "\n",
    "- Centro (CA): O3, CO, PM10\n",
    "- Copacabana (AV): SO2, O3, CO, PM10\n",
    "- São Cristóvão (SC): SO2,  O3, CO, PM10\n",
    "- Tijuca (SP): SO2, NOx, O3, CO, PM10\n",
    "- Irajá (IR): SO2, NOx, O3, CO, HC, PM2.5, PM10\n",
    "- Bangu (BG): SO2, NOx, O3, CO, HC, PM10\n",
    "- Campo Grande (CG): SO2, NOx, O3, CO, HC, PM10\n",
    "- Pedra de Guaratiba (PG): O3, PM10\n",
    "\n",
    "CO and HC are measured in (ppm), while the others are measured in (µg/m3)."
   ]
  },
  {
   "cell_type": "code",
   "execution_count": 4,
   "metadata": {},
   "outputs": [
    {
     "name": "stdout",
     "output_type": "stream",
     "text": [
      "<class 'pandas.core.frame.DataFrame'>\n",
      "RangeIndex: 661662 entries, 0 to 661661\n",
      "Data columns (total 26 columns):\n",
      " #   Column            Non-Null Count   Dtype  \n",
      "---  ------            --------------   -----  \n",
      " 0   Data              661662 non-null  object \n",
      " 1   CodNum            661662 non-null  int64  \n",
      " 2   Estação           661662 non-null  object \n",
      " 3   Chuva             645850 non-null  float64\n",
      " 4   Pres              646368 non-null  float64\n",
      " 5   RS                613402 non-null  float64\n",
      " 6   Temp              591045 non-null  float64\n",
      " 7   UR                551043 non-null  float64\n",
      " 8   Dir_Vento         571164 non-null  float64\n",
      " 9   Vel_Vento         570919 non-null  float64\n",
      " 10  SO2               464874 non-null  float64\n",
      " 11  NO2               271157 non-null  float64\n",
      " 12  HCNM              200083 non-null  float64\n",
      " 13  HCT               199993 non-null  float64\n",
      " 14  CH4               200140 non-null  float64\n",
      " 15  CO                547483 non-null  float64\n",
      " 16  NO                271172 non-null  float64\n",
      " 17  NOx               271131 non-null  float64\n",
      " 18  O3                624529 non-null  float64\n",
      " 19  PM10              625520 non-null  float64\n",
      " 20  PM2_5             71421 non-null   float64\n",
      " 21  Lat               661662 non-null  float64\n",
      " 22  Lon               661662 non-null  float64\n",
      " 23  X_UTM_Sirgas2000  661662 non-null  float64\n",
      " 24  Y_UTM_Sirgas2000  661662 non-null  float64\n",
      " 25  OBJECTID          661662 non-null  int64  \n",
      "dtypes: float64(22), int64(2), object(2)\n",
      "memory usage: 131.3+ MB\n"
     ]
    }
   ],
   "source": [
    "air_data.info()"
   ]
  },
  {
   "cell_type": "markdown",
   "metadata": {},
   "source": [
    "From these informations we can already see that some features are redundants. For instance, OBJECTID is the same as id, so we can remove it. The same with the colums CodNum and Estação, Lat/Lon and X/Y_UTM_Sirgas_2000. We will keep track of the relation in a dictionary and only keep the CodNum information and Lat/Lon. This will save around 20mb of information. We see that the gases have a lot of null values, because they are measured differently at each station, so we will keep them all. "
   ]
  },
  {
   "cell_type": "code",
   "execution_count": 5,
   "metadata": {},
   "outputs": [],
   "source": [
    "stations = air_data[['CodNum', 'Estação', 'X_UTM_Sirgas2000', 'Y_UTM_Sirgas2000']].drop_duplicates()\n",
    "stations_info = zip(stations.Estação, stations.X_UTM_Sirgas2000, stations.Y_UTM_Sirgas2000)\n",
    "stations = dict(zip(stations.CodNum, stations_info))\n",
    "\n",
    "air_data.drop(labels = ['OBJECTID', 'Estação', 'X_UTM_Sirgas2000', 'Y_UTM_Sirgas2000'], axis = 1, inplace = True)"
   ]
  },
  {
   "cell_type": "markdown",
   "metadata": {},
   "source": [
    "Convert the date to `datetime` dtype."
   ]
  },
  {
   "cell_type": "code",
   "execution_count": 86,
   "metadata": {},
   "outputs": [],
   "source": [
    "air_data.Data = pd.to_datetime(air_data.Data) \n",
    "\n",
    "air_data[\"year\"] = air_data.Data.apply(lambda x: x.year)\n",
    "air_data[\"month\"] = air_data.Data.apply(lambda x: x.month)\n",
    "air_data[\"day\"] = air_data.Data.apply(lambda x: x.day)\n",
    "air_data[\"hour\"] = air_data.Data.apply(lambda x: x.hour)"
   ]
  },
  {
   "cell_type": "markdown",
   "metadata": {},
   "source": [
    "## Missing and zero values\n",
    "\n",
    "First, we see the missing values in the whole dataset"
   ]
  },
  {
   "cell_type": "code",
   "execution_count": 87,
   "metadata": {},
   "outputs": [
    {
     "data": {
      "text/plain": [
       "Data         0.000000\n",
       "CodNum       0.000000\n",
       "Chuva        0.023897\n",
       "Pres         0.023115\n",
       "RS           0.072938\n",
       "Temp         0.106727\n",
       "UR           0.167184\n",
       "Dir_Vento    0.136774\n",
       "Vel_Vento    0.137144\n",
       "SO2          0.297415\n",
       "NO2          0.590188\n",
       "HCNM         0.697605\n",
       "HCT          0.697741\n",
       "CH4          0.697519\n",
       "CO           0.172564\n",
       "NO           0.590165\n",
       "NOx          0.590227\n",
       "O3           0.056121\n",
       "PM10         0.054623\n",
       "PM2_5        0.892058\n",
       "Lat          0.000000\n",
       "Lon          0.000000\n",
       "year         0.000000\n",
       "month        0.000000\n",
       "day          0.000000\n",
       "hour         0.000000\n",
       "dtype: float64"
      ]
     },
     "execution_count": 87,
     "metadata": {},
     "output_type": "execute_result"
    }
   ],
   "source": [
    "missing_values_df = air_data.isna().sum()\n",
    "missing_values_prop_df = missing_values_df/air_data.shape[0]\n",
    "for line, num in enumerate(missing_values_df):\n",
    "    missing_values_df.iloc[line] = str(num) + \" (\" + str(100*missing_values_prop_df.iloc[line])[:4] + \" %)\"\n",
    "missing_values_prop_df"
   ]
  },
  {
   "cell_type": "markdown",
   "metadata": {},
   "source": [
    "Observe that CO is not measured in Pedra de Guaratiba. If we desconsider it, the proportion falls for 6\\%. "
   ]
  },
  {
   "cell_type": "code",
   "execution_count": 88,
   "metadata": {},
   "outputs": [
    {
     "data": {
      "text/plain": [
       "0.06281475851538401"
      ]
     },
     "execution_count": 88,
     "metadata": {},
     "output_type": "execute_result"
    }
   ],
   "source": [
    "(air_data[air_data.CodNum != 6].isna().sum()/air_data[air_data.CodNum != 6].shape[0]).loc['CO']"
   ]
  },
  {
   "cell_type": "markdown",
   "metadata": {},
   "source": [
    "The proportion of zero values is the following"
   ]
  },
  {
   "cell_type": "code",
   "execution_count": 89,
   "metadata": {},
   "outputs": [
    {
     "data": {
      "text/plain": [
       "Data         0.000000\n",
       "CodNum       0.000000\n",
       "Chuva        0.909718\n",
       "Pres         0.000000\n",
       "RS           0.260743\n",
       "Temp         0.000128\n",
       "UR           0.000635\n",
       "Dir_Vento    0.001786\n",
       "Vel_Vento    0.006358\n",
       "SO2          0.061114\n",
       "NO2          0.000060\n",
       "HCNM         0.007313\n",
       "HCT          0.000000\n",
       "CH4          0.000000\n",
       "CO           0.015349\n",
       "NO           0.000017\n",
       "NOx          0.000017\n",
       "O3           0.009679\n",
       "PM10         0.001953\n",
       "PM2_5        0.002832\n",
       "Lat          0.000000\n",
       "Lon          0.000000\n",
       "year         0.000000\n",
       "month        0.000000\n",
       "day          0.000000\n",
       "hour         0.041669\n",
       "dtype: float64"
      ]
     },
     "execution_count": 89,
     "metadata": {},
     "output_type": "execute_result"
    }
   ],
   "source": [
    "zero_values_df = air_data.eq(0).sum()\n",
    "zero_values_df/air_data.shape[0]"
   ]
  },
  {
   "cell_type": "code",
   "execution_count": 167,
   "metadata": {},
   "outputs": [],
   "source": [
    "consider_var = ['Chuva', 'Pres', 'RS', 'Temp', 'UR', 'Dir_Vento', 'Vel_Vento', 'CO', 'O3', 'PM10']\n",
    "miss_per_year = air_data.groupby(\"year\").agg(lambda x: pd.isna(x).sum()/len(x))[consider_var]\n",
    "miss_per_code = air_data.groupby(\"CodNum\").agg(lambda x: pd.isna(x).sum()/len(x))[consider_var]"
   ]
  },
  {
   "cell_type": "code",
   "execution_count": 176,
   "metadata": {},
   "outputs": [
    {
     "data": {
      "image/png": "[encoded data removed]",
      "text/plain": [
       "<Figure size 1080x720 with 1 Axes>"
      ]
     },
     "metadata": {
      "needs_background": "light"
     },
     "output_type": "display_data"
    }
   ],
   "source": [
    "miss_per_year.plot.bar(figsize = (15,10))\n",
    "plt.title('Missing data per yea', fontsize = 20)\n",
    "plt.show()"
   ]
  },
  {
   "cell_type": "code",
   "execution_count": 177,
   "metadata": {},
   "outputs": [
    {
     "data": {
      "image/png": "[encoded data removed]",
      "text/plain": [
       "<Figure size 1080x720 with 1 Axes>"
      ]
     },
     "metadata": {
      "needs_background": "light"
     },
     "output_type": "display_data"
    }
   ],
   "source": [
    "miss_per_code.plot.bar(figsize = (15,10))\n",
    "plt.title('Missing data per station', fontsize = 20)\n",
    "plt.show()"
   ]
  },
  {
   "cell_type": "code",
   "execution_count": 213,
   "metadata": {},
   "outputs": [
    {
     "data": {
      "text/plain": [
       "Chuva        0\n",
       "Pres         0\n",
       "RS           0\n",
       "Temp         0\n",
       "UR           0\n",
       "Dir_Vento    0\n",
       "Vel_Vento    0\n",
       "CO           0\n",
       "O3           0\n",
       "PM10         0\n",
       "dtype: int64"
      ]
     },
     "execution_count": 213,
     "metadata": {},
     "output_type": "execute_result"
    }
   ],
   "source": [
    "air_data.groupby([\"year\", \"month\", \"day\", \"hour\"])[consider_var].sum().isna().sum()"
   ]
  },
  {
   "cell_type": "code",
   "execution_count": null,
   "metadata": {},
   "outputs": [],
   "source": []
  }
 ],
 "metadata": {
  "kernelspec": {
   "display_name": "machineLearning",
   "language": "python",
   "name": "machinelearning"
  },
  "language_info": {
   "codemirror_mode": {
    "name": "ipython",
    "version": 3
   },
   "file_extension": ".py",
   "mimetype": "text/x-python",
   "name": "python",
   "nbconvert_exporter": "python",
   "pygments_lexer": "ipython3",
   "version": "3.9.4"
  }
 },
 "nbformat": 4,
 "nbformat_minor": 4
}
