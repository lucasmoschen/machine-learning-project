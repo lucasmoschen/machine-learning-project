{
 "cells": [
  {
   "cell_type": "markdown",
   "id": "48208abc-6e63-45e0-a93a-8cb338867d67",
   "metadata": {},
   "source": [
    "# Models \n",
    "\n",
    "In this notebook, we develop the models for the transformed dataset. "
   ]
  },
  {
   "cell_type": "code",
   "execution_count": null,
   "id": "c44b8227-3a40-43d9-b9dc-f33c9689be4c",
   "metadata": {},
   "outputs": [],
   "source": []
  }
 ],
 "metadata": {
  "kernelspec": {
   "display_name": "machineLearning",
   "language": "python",
   "name": "machinelearning"
  },
  "language_info": {
   "codemirror_mode": {
    "name": "ipython",
    "version": 3
   },
   "file_extension": ".py",
   "mimetype": "text/x-python",
   "name": "python",
   "nbconvert_exporter": "python",
   "pygments_lexer": "ipython3",
   "version": "3.9.4"
  }
 },
 "nbformat": 4,
 "nbformat_minor": 5
}
