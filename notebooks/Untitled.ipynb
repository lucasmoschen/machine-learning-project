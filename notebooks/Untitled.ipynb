{
 "cells": [
  {
   "cell_type": "code",
   "execution_count": 1,
   "id": "43046bad-155e-4f61-aa78-45f0bbe8c4b0",
   "metadata": {},
   "outputs": [],
   "source": [
    "import numpy as np"
   ]
  },
  {
   "cell_type": "code",
   "execution_count": 28,
   "id": "603eded1-975b-4547-a51a-ffc31f9b2d84",
   "metadata": {},
   "outputs": [
    {
     "name": "stdout",
     "output_type": "stream",
     "text": [
      "Collecting rpy2\n",
      "  Downloading rpy2-3.4.5.tar.gz (194 kB)\n",
      "\u001b[K     |████████████████████████████████| 194 kB 840 kB/s eta 0:00:01\n",
      "\u001b[?25hRequirement already satisfied: cffi>=1.10.0 in /home/lucasmoschen/anaconda3/lib/python3.7/site-packages (from rpy2) (1.12.3)\n",
      "Requirement already satisfied: jinja2 in /home/lucasmoschen/anaconda3/lib/python3.7/site-packages (from rpy2) (2.11.3)\n",
      "Requirement already satisfied: pytz in /home/lucasmoschen/anaconda3/lib/python3.7/site-packages (from rpy2) (2021.1)\n",
      "Collecting tzlocal\n",
      "  Downloading tzlocal-2.1-py2.py3-none-any.whl (16 kB)\n",
      "Requirement already satisfied: pycparser in /home/lucasmoschen/anaconda3/lib/python3.7/site-packages (from cffi>=1.10.0->rpy2) (2.20)\n",
      "Requirement already satisfied: MarkupSafe>=0.23 in /home/lucasmoschen/anaconda3/lib/python3.7/site-packages (from jinja2->rpy2) (1.1.1)\n",
      "Building wheels for collected packages: rpy2\n",
      "  Building wheel for rpy2 (setup.py) ... \u001b[?25ldone\n",
      "\u001b[?25h  Created wheel for rpy2: filename=rpy2-3.4.5-cp37-cp37m-linux_x86_64.whl size=299232 sha256=ca6ffd90cdaaf35e474dcc74fee0c1714b9ca156a4fdae9c772fcd13762a2f7e\n",
      "  Stored in directory: /home/lucasmoschen/.cache/pip/wheels/46/00/c5/a43320afe86e7540d16d7f07cf4d29547d98921e76ea9f2f7a\n",
      "Successfully built rpy2\n",
      "Installing collected packages: tzlocal, rpy2\n",
      "Successfully installed rpy2-3.4.5 tzlocal-2.1\n"
     ]
    }
   ],
   "source": [
    "!pip install rpy2"
   ]
  },
  {
   "cell_type": "code",
   "execution_count": 128,
   "id": "b1eaddb4-da3b-4880-a01f-fe358dc3008c",
   "metadata": {},
   "outputs": [],
   "source": [
    "import rpy2\n",
    "from rpy2.robjects.packages import importr\n",
    "from rpy2.robjects import FloatVector, r\n",
    "\n",
    "norm = importr(\"norm\")"
   ]
  },
  {
   "cell_type": "code",
   "execution_count": 137,
   "id": "ad8a230a-430b-4af0-be68-563a188d33b3",
   "metadata": {},
   "outputs": [],
   "source": [
    "X = np.random.multivariate_normal([0,0], np.eye(2),10000)\n",
    "mask = np.random.choice([False,True], size = 20000, p = [0.9,0.1])\n",
    "#X.ravel()[mask] = np.nan"
   ]
  },
  {
   "cell_type": "code",
   "execution_count": 138,
   "id": "b9de6a0b-ad21-48d8-abf2-89f01f5c3461",
   "metadata": {},
   "outputs": [],
   "source": [
    "X_r = FloatVector(X.flatten())\n",
    "m = r['matrix'](X_r, ncol = 2, byrow = True)"
   ]
  },
  {
   "cell_type": "code",
   "execution_count": 139,
   "id": "72ae0a1f-9455-4ca8-b67a-12cbe8028876",
   "metadata": {},
   "outputs": [
    {
     "name": "stdout",
     "output_type": "stream",
     "text": [
      "Iterations of EM: \n",
      "1...2...\n"
     ]
    }
   ],
   "source": [
    "s = norm.prelim_norm(m)  \n",
    "theta = norm.em_norm(s)\n",
    "params = norm.getparam_norm(s,theta,corr=False)"
   ]
  },
  {
   "cell_type": "code",
   "execution_count": 140,
   "id": "b44915b8-dcd3-4960-b7ec-270ea66652e3",
   "metadata": {},
   "outputs": [
    {
     "data": {
      "text/plain": [
       "{'mu': <rpy2.robjects.vectors.FloatVector object at 0x7fc6780b6708> [RTYPES.REALSXP]\n",
       " R classes: ('numeric',)\n",
       " [-0.002542, 0.008079],\n",
       " 'sigma': <rpy2.robjects.vectors.FloatMatrix object at 0x7fc6780b6488> [RTYPES.REALSXP]\n",
       " R classes: ('matrix', 'array')\n",
       " [1.007860, -0.002472, -0.002472, 0.996110]}"
      ]
     },
     "execution_count": 140,
     "metadata": {},
     "output_type": "execute_result"
    }
   ],
   "source": [
    "dict(params.items())"
   ]
  },
  {
   "cell_type": "code",
   "execution_count": null,
   "id": "12645c7b-d1ee-4997-9f3f-69ea1bb2bba4",
   "metadata": {},
   "outputs": [],
   "source": []
  }
 ],
 "metadata": {
  "kernelspec": {
   "display_name": "Python 3",
   "language": "python",
   "name": "python3"
  },
  "language_info": {
   "codemirror_mode": {
    "name": "ipython",
    "version": 3
   },
   "file_extension": ".py",
   "mimetype": "text/x-python",
   "name": "python",
   "nbconvert_exporter": "python",
   "pygments_lexer": "ipython3",
   "version": "3.7.1"
  }
 },
 "nbformat": 4,
 "nbformat_minor": 5
}
