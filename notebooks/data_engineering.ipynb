{
 "cells": [
  {
   "cell_type": "markdown",
   "metadata": {},
   "source": [
    "# Data Engineering\n",
    "\n",
    "After the visualization process, we have to organize the data before applyinng the Machine Learning algorithms. Therefore, we shall handle missing data, data transformations, feature extraction, and feature selection. \n",
    "\n",
    "Load the necessary libraries and the data. "
   ]
  },
  {
   "cell_type": "code",
   "execution_count": 222,
   "metadata": {},
   "outputs": [],
   "source": [
    "import pandas as pd\n",
    "import numpy as np\n",
    "from sklearn import preprocessing as pp\n",
    "import matplotlib.pyplot as plt\n",
    "import matplotlib\n",
    "import seaborn as sns\n",
    "from statsmodels.graphics.tsaplots import plot_acf, plot_pacf\n",
    "\n",
    "# models \n",
    "from sklearn.linear_model import LinearRegression\n",
    "from sklearn.svm import SVR"
   ]
  },
  {
   "cell_type": "markdown",
   "metadata": {},
   "source": [
    "## Definitions for the notebook"
   ]
  },
  {
   "cell_type": "code",
   "execution_count": 2,
   "metadata": {},
   "outputs": [],
   "source": [
    "IMAGES_FOLDER = \"../notes/images/\"\n",
    "\n",
    "sns.set()\n",
    "\n",
    "pd.set_option('precision', 3)\n",
    "pd.options.mode.chained_assignment = None\n",
    "\n",
    "%matplotlib inline"
   ]
  },
  {
   "cell_type": "markdown",
   "metadata": {},
   "source": [
    "## Importing the dataset"
   ]
  },
  {
   "cell_type": "code",
   "execution_count": 68,
   "metadata": {},
   "outputs": [
    {
     "data": {
      "text/html": [
       "<div>\n",
       "<style scoped>\n",
       "    .dataframe tbody tr th:only-of-type {\n",
       "        vertical-align: middle;\n",
       "    }\n",
       "\n",
       "    .dataframe tbody tr th {\n",
       "        vertical-align: top;\n",
       "    }\n",
       "\n",
       "    .dataframe thead th {\n",
       "        text-align: right;\n",
       "    }\n",
       "</style>\n",
       "<table border=\"1\" class=\"dataframe\">\n",
       "  <thead>\n",
       "    <tr style=\"text-align: right;\">\n",
       "      <th></th>\n",
       "      <th>Data</th>\n",
       "      <th>year</th>\n",
       "      <th>month</th>\n",
       "      <th>day</th>\n",
       "      <th>hour</th>\n",
       "      <th>CodNum</th>\n",
       "      <th>Lat</th>\n",
       "      <th>Lon</th>\n",
       "      <th>Chuva</th>\n",
       "      <th>Pres</th>\n",
       "      <th>RS</th>\n",
       "      <th>Temp</th>\n",
       "      <th>UR</th>\n",
       "      <th>Dir_Vento</th>\n",
       "      <th>Vel_Vento</th>\n",
       "      <th>CO</th>\n",
       "      <th>O3</th>\n",
       "      <th>PM10</th>\n",
       "    </tr>\n",
       "  </thead>\n",
       "  <tbody>\n",
       "    <tr>\n",
       "      <th>326721</th>\n",
       "      <td>2011-01-01 00:30:00+00:00</td>\n",
       "      <td>2011</td>\n",
       "      <td>1</td>\n",
       "      <td>1</td>\n",
       "      <td>0</td>\n",
       "      <td>7</td>\n",
       "      <td>-22.898</td>\n",
       "      <td>-43.222</td>\n",
       "      <td>0.0</td>\n",
       "      <td>1009.60</td>\n",
       "      <td>2.87</td>\n",
       "      <td>26.66</td>\n",
       "      <td>90.73</td>\n",
       "      <td>180.00</td>\n",
       "      <td>0.47</td>\n",
       "      <td>0.03</td>\n",
       "      <td>8.47</td>\n",
       "      <td>8.00</td>\n",
       "    </tr>\n",
       "    <tr>\n",
       "      <th>387058</th>\n",
       "      <td>2011-01-01 00:30:00+00:00</td>\n",
       "      <td>2011</td>\n",
       "      <td>1</td>\n",
       "      <td>1</td>\n",
       "      <td>0</td>\n",
       "      <td>8</td>\n",
       "      <td>-22.925</td>\n",
       "      <td>-43.233</td>\n",
       "      <td>0.0</td>\n",
       "      <td>1007.45</td>\n",
       "      <td>6.40</td>\n",
       "      <td>20.91</td>\n",
       "      <td>89.49</td>\n",
       "      <td>176.83</td>\n",
       "      <td>2.92</td>\n",
       "      <td>0.13</td>\n",
       "      <td>5.08</td>\n",
       "      <td>44.05</td>\n",
       "    </tr>\n",
       "    <tr>\n",
       "      <th>103079</th>\n",
       "      <td>2011-01-01 00:30:00+00:00</td>\n",
       "      <td>2011</td>\n",
       "      <td>1</td>\n",
       "      <td>1</td>\n",
       "      <td>0</td>\n",
       "      <td>3</td>\n",
       "      <td>-22.908</td>\n",
       "      <td>-43.178</td>\n",
       "      <td>0.2</td>\n",
       "      <td>1009.33</td>\n",
       "      <td>1.57</td>\n",
       "      <td>21.81</td>\n",
       "      <td>84.50</td>\n",
       "      <td>250.67</td>\n",
       "      <td>0.34</td>\n",
       "      <td>0.17</td>\n",
       "      <td>17.89</td>\n",
       "      <td>10.00</td>\n",
       "    </tr>\n",
       "    <tr>\n",
       "      <th>163229</th>\n",
       "      <td>2011-01-01 00:30:00+00:00</td>\n",
       "      <td>2011</td>\n",
       "      <td>1</td>\n",
       "      <td>1</td>\n",
       "      <td>0</td>\n",
       "      <td>1</td>\n",
       "      <td>-22.965</td>\n",
       "      <td>-43.180</td>\n",
       "      <td>0.0</td>\n",
       "      <td>1009.52</td>\n",
       "      <td>0.70</td>\n",
       "      <td>24.09</td>\n",
       "      <td>79.79</td>\n",
       "      <td>157.00</td>\n",
       "      <td>0.90</td>\n",
       "      <td>0.15</td>\n",
       "      <td>3.68</td>\n",
       "      <td>34.64</td>\n",
       "    </tr>\n",
       "    <tr>\n",
       "      <th>387059</th>\n",
       "      <td>2011-01-01 01:30:00+00:00</td>\n",
       "      <td>2011</td>\n",
       "      <td>1</td>\n",
       "      <td>1</td>\n",
       "      <td>1</td>\n",
       "      <td>8</td>\n",
       "      <td>-22.925</td>\n",
       "      <td>-43.233</td>\n",
       "      <td>0.0</td>\n",
       "      <td>1006.57</td>\n",
       "      <td>6.50</td>\n",
       "      <td>20.53</td>\n",
       "      <td>92.83</td>\n",
       "      <td>211.17</td>\n",
       "      <td>2.82</td>\n",
       "      <td>0.13</td>\n",
       "      <td>11.90</td>\n",
       "      <td>55.89</td>\n",
       "    </tr>\n",
       "  </tbody>\n",
       "</table>\n",
       "</div>"
      ],
      "text/plain": [
       "                            Data  year  month  day  hour  CodNum     Lat  \\\n",
       "326721 2011-01-01 00:30:00+00:00  2011      1    1     0       7 -22.898   \n",
       "387058 2011-01-01 00:30:00+00:00  2011      1    1     0       8 -22.925   \n",
       "103079 2011-01-01 00:30:00+00:00  2011      1    1     0       3 -22.908   \n",
       "163229 2011-01-01 00:30:00+00:00  2011      1    1     0       1 -22.965   \n",
       "387059 2011-01-01 01:30:00+00:00  2011      1    1     1       8 -22.925   \n",
       "\n",
       "           Lon  Chuva     Pres    RS   Temp     UR  Dir_Vento  Vel_Vento  \\\n",
       "326721 -43.222    0.0  1009.60  2.87  26.66  90.73     180.00       0.47   \n",
       "387058 -43.233    0.0  1007.45  6.40  20.91  89.49     176.83       2.92   \n",
       "103079 -43.178    0.2  1009.33  1.57  21.81  84.50     250.67       0.34   \n",
       "163229 -43.180    0.0  1009.52  0.70  24.09  79.79     157.00       0.90   \n",
       "387059 -43.233    0.0  1006.57  6.50  20.53  92.83     211.17       2.82   \n",
       "\n",
       "          CO     O3   PM10  \n",
       "326721  0.03   8.47   8.00  \n",
       "387058  0.13   5.08  44.05  \n",
       "103079  0.17  17.89  10.00  \n",
       "163229  0.15   3.68  34.64  \n",
       "387059  0.13  11.90  55.89  "
      ]
     },
     "execution_count": 68,
     "metadata": {},
     "output_type": "execute_result"
    }
   ],
   "source": [
    "air_data = pd.read_csv(\"../data/RiodeJaneiro_MonitorAr_hourly_p1.csv\", index_col = 0)\n",
    "air_data.Data = pd.to_datetime(air_data.Data) \n",
    "air_data.head()"
   ]
  },
  {
   "cell_type": "markdown",
   "metadata": {},
   "source": [
    "## Missing data\n",
    "\n",
    "We develop the following methods to handle the missing data. "
   ]
  },
  {
   "cell_type": "code",
   "execution_count": 69,
   "metadata": {},
   "outputs": [],
   "source": [
    "air_data_no_missing = air_data.dropna()"
   ]
  },
  {
   "cell_type": "markdown",
   "metadata": {},
   "source": [
    "## Data transformation\n",
    "\n",
    "We use the Power Transformer Yeo-Johnson in order to reduce heteroscedasticity in the dataset. The lambdas estimated are below. "
   ]
  },
  {
   "cell_type": "code",
   "execution_count": 70,
   "metadata": {},
   "outputs": [
    {
     "data": {
      "text/plain": [
       "PowerTransformer()"
      ]
     },
     "execution_count": 70,
     "metadata": {},
     "output_type": "execute_result"
    }
   ],
   "source": [
    "var_continuous = ['Chuva', 'Pres', 'RS', 'Temp', 'UR', 'Dir_Vento', 'Vel_Vento', 'CO', 'O3', 'PM10']\n",
    "\n",
    "pt = pp.PowerTransformer(method = 'yeo-johnson', standardize=True)\n",
    "pt.fit(air_data_no_missing[var_continuous])"
   ]
  },
  {
   "cell_type": "code",
   "execution_count": 71,
   "metadata": {},
   "outputs": [
    {
     "data": {
      "text/plain": [
       "array([-21.70192857,  11.98964551,  -0.11053925,   0.28313309,\n",
       "         1.52643565,   0.86071829,  -0.80886639,  -1.75827312,\n",
       "         0.25051017,   0.27130243])"
      ]
     },
     "execution_count": 71,
     "metadata": {},
     "output_type": "execute_result"
    }
   ],
   "source": [
    "pt.lambdas_"
   ]
  },
  {
   "cell_type": "code",
   "execution_count": 72,
   "metadata": {},
   "outputs": [],
   "source": [
    "transform_air_data = pt.transform(air_data_no_missing[var_continuous])"
   ]
  },
  {
   "cell_type": "markdown",
   "metadata": {},
   "source": [
    "We can see the differences to the gases measured. "
   ]
  },
  {
   "cell_type": "code",
   "execution_count": 73,
   "metadata": {},
   "outputs": [
    {
     "data": {
      "image/png": "[encoded data removed]",
      "text/plain": [
       "<Figure size 1008x288 with 6 Axes>"
      ]
     },
     "metadata": {
      "needs_background": "light"
     },
     "output_type": "display_data"
    }
   ],
   "source": [
    "fig, ax = plt.subplots(2,3,figsize = (14,4))\n",
    "air_data_no_missing.CO.plot.hist(ax = ax[0][0], density = True, title = 'CO')\n",
    "air_data_no_missing.O3.plot.hist(ax = ax[0][1], density = True, title = r'O$_3$')\n",
    "air_data_no_missing.PM10.plot.hist(ax = ax[0][2], density = True, title = r'PM$_{10}$')\n",
    "\n",
    "ax[1][0].hist(transform_air_data[:,-3], density = True)\n",
    "ax[1][1].hist(transform_air_data[:,-2], density = True)\n",
    "ax[1][2].hist(transform_air_data[:,-1], density = True)\n",
    "\n",
    "ax[0][0].set_ylabel(\"Before transform\")\n",
    "ax[1][0].set_ylabel(\"After transform\")\n",
    "ax[0][1].set_ylabel(\"\")\n",
    "ax[0][2].set_ylabel(\"\")\n",
    "\n",
    "plt.savefig(IMAGES_FOLDER + \"before_after_transform_gases.eps\", bbox_inches=\"tight\")\n",
    "plt.show()"
   ]
  },
  {
   "cell_type": "code",
   "execution_count": 74,
   "metadata": {},
   "outputs": [],
   "source": [
    "air_data_no_missing[var_continuous] = transform_air_data"
   ]
  },
  {
   "cell_type": "markdown",
   "metadata": {},
   "source": [
    "## Feature extraction\n",
    "\n",
    "We add variables in order to help the estimates. We are putting season 0 (summer) to months January, February, and March, for instance. After, we need to ajust the months March, June, September, and December, because each one is divided between two seasons."
   ]
  },
  {
   "cell_type": "code",
   "execution_count": 106,
   "metadata": {},
   "outputs": [],
   "source": [
    "air_data_no_missing[\"weekend\"] = air_data_no_missing.Data.dt.weekday >= 5\n",
    "air_data_no_missing[\"season\"] = (air_data_no_missing.month - 1)// 3\n",
    "\n",
    "air_data_no_missing.season += (air_data_no_missing.month == 3)&(air_data_no_missing.day>=20)\n",
    "air_data_no_missing.season += (air_data_no_missing.month == 6)&(air_data_no_missing.day>=21)\n",
    "air_data_no_missing.season += (air_data_no_missing.month == 9)&(air_data_no_missing.day>=23)\n",
    "air_data_no_missing.season += (air_data_no_missing.month == 12)&(air_data_no_missing.day>=21)"
   ]
  },
  {
   "cell_type": "code",
   "execution_count": 114,
   "metadata": {},
   "outputs": [],
   "source": [
    "air_data_no_missing[\"hour_sin\"] = np.sin(air_data_no_missing.hour*(2*np.pi/24))\n",
    "air_data_no_missing[\"hour_cos\"] = np.cos(air_data_no_missing.hour*(2*np.pi/24))"
   ]
  },
  {
   "cell_type": "code",
   "execution_count": 228,
   "metadata": {},
   "outputs": [
    {
     "name": "stderr",
     "output_type": "stream",
     "text": [
      "<ipython-input-228-091141f4ae14>:1: FutureWarning: DataFrame.mean and DataFrame.median with numeric_only=None will include datetime64 and datetime64tz columns in a future version.\n",
      "  air_data.fillna(air_data.mean(), inplace = True)\n"
     ]
    }
   ],
   "source": [
    "air_data.fillna(air_data.mean(), inplace = True)\n",
    "s = air_data[(air_data.CodNum == 8)].CO"
   ]
  },
  {
   "cell_type": "code",
   "execution_count": 229,
   "metadata": {},
   "outputs": [
    {
     "data": {
      "image/png": "[encoded data removed]",
      "text/plain": [
       "<Figure size 432x288 with 1 Axes>"
      ]
     },
     "metadata": {
      "needs_background": "light"
     },
     "output_type": "display_data"
    },
    {
     "data": {
      "image/png": "[encoded data removed]",
      "text/plain": [
       "<Figure size 432x288 with 1 Axes>"
      ]
     },
     "metadata": {
      "needs_background": "light"
     },
     "output_type": "display_data"
    }
   ],
   "source": [
    "plot_acf(s)\n",
    "plot_pacf(s)\n",
    "plt.show()"
   ]
  },
  {
   "cell_type": "code",
   "execution_count": null,
   "metadata": {},
   "outputs": [],
   "source": []
  },
  {
   "cell_type": "code",
   "execution_count": 231,
   "metadata": {},
   "outputs": [
    {
     "data": {
      "text/html": [
       "<div>\n",
       "<style scoped>\n",
       "    .dataframe tbody tr th:only-of-type {\n",
       "        vertical-align: middle;\n",
       "    }\n",
       "\n",
       "    .dataframe tbody tr th {\n",
       "        vertical-align: top;\n",
       "    }\n",
       "\n",
       "    .dataframe thead th {\n",
       "        text-align: right;\n",
       "    }\n",
       "</style>\n",
       "<table border=\"1\" class=\"dataframe\">\n",
       "  <thead>\n",
       "    <tr style=\"text-align: right;\">\n",
       "      <th></th>\n",
       "      <th>hour</th>\n",
       "      <th>hour_sin</th>\n",
       "      <th>hour_cos</th>\n",
       "    </tr>\n",
       "  </thead>\n",
       "  <tbody>\n",
       "    <tr>\n",
       "      <th>hour</th>\n",
       "      <td>1.000</td>\n",
       "      <td>-0.777</td>\n",
       "      <td>-0.103</td>\n",
       "    </tr>\n",
       "    <tr>\n",
       "      <th>hour_sin</th>\n",
       "      <td>-0.777</td>\n",
       "      <td>1.000</td>\n",
       "      <td>-0.002</td>\n",
       "    </tr>\n",
       "    <tr>\n",
       "      <th>hour_cos</th>\n",
       "      <td>-0.103</td>\n",
       "      <td>-0.002</td>\n",
       "      <td>1.000</td>\n",
       "    </tr>\n",
       "  </tbody>\n",
       "</table>\n",
       "</div>"
      ],
      "text/plain": [
       "           hour  hour_sin  hour_cos\n",
       "hour      1.000    -0.777    -0.103\n",
       "hour_sin -0.777     1.000    -0.002\n",
       "hour_cos -0.103    -0.002     1.000"
      ]
     },
     "execution_count": 231,
     "metadata": {},
     "output_type": "execute_result"
    }
   ],
   "source": [
    "air_data_no_missing[[\"hour\", \"hour_sin\", \"hour_cos\"]].corr()"
   ]
  },
  {
   "cell_type": "code",
   "execution_count": null,
   "metadata": {},
   "outputs": [],
   "source": []
  }
 ],
 "metadata": {
  "kernelspec": {
   "display_name": "machineLearning",
   "language": "python",
   "name": "machinelearning"
  },
  "language_info": {
   "codemirror_mode": {
    "name": "ipython",
    "version": 3
   },
   "file_extension": ".py",
   "mimetype": "text/x-python",
   "name": "python",
   "nbconvert_exporter": "python",
   "pygments_lexer": "ipython3",
   "version": "3.9.4"
  }
 },
 "nbformat": 4,
 "nbformat_minor": 4
}
