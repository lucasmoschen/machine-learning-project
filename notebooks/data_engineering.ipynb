{
 "cells": [
  {
   "cell_type": "markdown",
   "metadata": {
    "id": "ipEHrmBdjudE"
   },
   "source": [
    "# Data Engineering\n",
    "\n",
    "After the visualization process, we have to organize the data before applyinng the Machine Learning algorithms. Therefore, we shall handle missing data, data transformations, feature extraction, and feature selection. \n",
    "\n",
    "Load the necessary libraries and the data. "
   ]
  },
  {
   "cell_type": "code",
   "execution_count": 1,
   "metadata": {
    "colab": {
     "base_uri": "https://localhost:8080/"
    },
    "executionInfo": {
     "elapsed": 26178,
     "status": "ok",
     "timestamp": 1623618833493,
     "user": {
      "displayName": "Lucas Machado Moschen",
      "photoUrl": "https://lh3.googleusercontent.com/a-/AOh14Gj184uAa-AIRt4VHOGyK5QavE6WsVbkJzlr0GK4Yro=s64",
      "userId": "01505906457372095834"
     },
     "user_tz": 180
    },
    "id": "IwOjNGS0k5QN",
    "outputId": "f99ce60a-d483-4ee7-b514-9f466210f2c8"
   },
   "outputs": [],
   "source": [
    "# When Google Colab is being used \n",
    "\n",
    "#from google.colab import drive\n",
    "#drive.mount('/content/drive')"
   ]
  },
  {
   "cell_type": "code",
   "execution_count": 2,
   "metadata": {
    "colab": {
     "base_uri": "https://localhost:8080/"
    },
    "executionInfo": {
     "elapsed": 1427,
     "status": "ok",
     "timestamp": 1623618841310,
     "user": {
      "displayName": "Lucas Machado Moschen",
      "photoUrl": "https://lh3.googleusercontent.com/a-/AOh14Gj184uAa-AIRt4VHOGyK5QavE6WsVbkJzlr0GK4Yro=s64",
      "userId": "01505906457372095834"
     },
     "user_tz": 180
    },
    "id": "cD6e-gSJjudU",
    "outputId": "12db3223-f439-4c93-d5d3-2f169b6c341e"
   },
   "outputs": [],
   "source": [
    "import pandas as pd\n",
    "import numpy as np\n",
    "from sklearn import preprocessing as pp\n",
    "import os\n",
    "import tqdm\n",
    "\n",
    "# plotting\n",
    "import matplotlib.pyplot as plt\n",
    "import matplotlib\n",
    "import seaborn as sns\n",
    "from statsmodels.graphics.tsaplots import plot_acf, plot_pacf\n",
    "\n",
    "# models \n",
    "from sklearn.linear_model import LinearRegression\n",
    "from sklearn.svm import SVR\n",
    "from sklearn.impute import KNNImputer, SimpleImputer"
   ]
  },
  {
   "cell_type": "markdown",
   "metadata": {
    "id": "KY31apjYjudj"
   },
   "source": [
    "## Definitions for the notebook"
   ]
  },
  {
   "cell_type": "code",
   "execution_count": 3,
   "metadata": {
    "executionInfo": {
     "elapsed": 406,
     "status": "ok",
     "timestamp": 1623619202569,
     "user": {
      "displayName": "Lucas Machado Moschen",
      "photoUrl": "https://lh3.googleusercontent.com/a-/AOh14Gj184uAa-AIRt4VHOGyK5QavE6WsVbkJzlr0GK4Yro=s64",
      "userId": "01505906457372095834"
     },
     "user_tz": 180
    },
    "id": "lGFxoep4judj"
   },
   "outputs": [],
   "source": [
    "# For local folder\n",
    "IMAGES_FOLDER = \"../notes/images/\"\n",
    "# For Google colab\n",
    "#IMAGES_FOLDER = \"drive/MyDrive/Arquivos Acadêmicos/Disciplinas FGV/Machine Learning/images/\"\n",
    "\n",
    "sns.set()\n",
    "\n",
    "pd.set_option('precision', 3)\n",
    "pd.options.mode.chained_assignment = None\n",
    "\n",
    "%matplotlib inline"
   ]
  },
  {
   "cell_type": "markdown",
   "metadata": {
    "id": "U-uN4a-Ejudj"
   },
   "source": [
    "## Importing the dataset"
   ]
  },
  {
   "cell_type": "code",
   "execution_count": 4,
   "metadata": {
    "colab": {
     "base_uri": "https://localhost:8080/",
     "height": 200
    },
    "executionInfo": {
     "elapsed": 5615,
     "status": "ok",
     "timestamp": 1623622576751,
     "user": {
      "displayName": "Lucas Machado Moschen",
      "photoUrl": "https://lh3.googleusercontent.com/a-/AOh14Gj184uAa-AIRt4VHOGyK5QavE6WsVbkJzlr0GK4Yro=s64",
      "userId": "01505906457372095834"
     },
     "user_tz": 180
    },
    "id": "EHbdB16pjudj",
    "outputId": "be0c90e5-03ea-48ee-9c45-74bcb94494d2"
   },
   "outputs": [
    {
     "data": {
      "text/html": [
       "<div>\n",
       "<style scoped>\n",
       "    .dataframe tbody tr th:only-of-type {\n",
       "        vertical-align: middle;\n",
       "    }\n",
       "\n",
       "    .dataframe tbody tr th {\n",
       "        vertical-align: top;\n",
       "    }\n",
       "\n",
       "    .dataframe thead th {\n",
       "        text-align: right;\n",
       "    }\n",
       "</style>\n",
       "<table border=\"1\" class=\"dataframe\">\n",
       "  <thead>\n",
       "    <tr style=\"text-align: right;\">\n",
       "      <th></th>\n",
       "      <th>Data</th>\n",
       "      <th>year</th>\n",
       "      <th>month</th>\n",
       "      <th>day</th>\n",
       "      <th>hour</th>\n",
       "      <th>CodNum</th>\n",
       "      <th>Lat</th>\n",
       "      <th>Lon</th>\n",
       "      <th>Chuva</th>\n",
       "      <th>Pres</th>\n",
       "      <th>RS</th>\n",
       "      <th>Temp</th>\n",
       "      <th>UR</th>\n",
       "      <th>Dir_Vento</th>\n",
       "      <th>Vel_Vento</th>\n",
       "      <th>CO</th>\n",
       "      <th>O3</th>\n",
       "      <th>PM10</th>\n",
       "    </tr>\n",
       "  </thead>\n",
       "  <tbody>\n",
       "    <tr>\n",
       "      <th>326721</th>\n",
       "      <td>2011-01-01 00:30:00+00:00</td>\n",
       "      <td>2011</td>\n",
       "      <td>1</td>\n",
       "      <td>1</td>\n",
       "      <td>0</td>\n",
       "      <td>7</td>\n",
       "      <td>-22.898</td>\n",
       "      <td>-43.222</td>\n",
       "      <td>0.0</td>\n",
       "      <td>1009.60</td>\n",
       "      <td>2.87</td>\n",
       "      <td>26.66</td>\n",
       "      <td>90.73</td>\n",
       "      <td>180.00</td>\n",
       "      <td>0.47</td>\n",
       "      <td>0.03</td>\n",
       "      <td>8.47</td>\n",
       "      <td>8.00</td>\n",
       "    </tr>\n",
       "    <tr>\n",
       "      <th>387058</th>\n",
       "      <td>2011-01-01 00:30:00+00:00</td>\n",
       "      <td>2011</td>\n",
       "      <td>1</td>\n",
       "      <td>1</td>\n",
       "      <td>0</td>\n",
       "      <td>8</td>\n",
       "      <td>-22.925</td>\n",
       "      <td>-43.233</td>\n",
       "      <td>0.0</td>\n",
       "      <td>1007.45</td>\n",
       "      <td>6.40</td>\n",
       "      <td>20.91</td>\n",
       "      <td>89.49</td>\n",
       "      <td>176.83</td>\n",
       "      <td>2.92</td>\n",
       "      <td>0.13</td>\n",
       "      <td>5.08</td>\n",
       "      <td>44.05</td>\n",
       "    </tr>\n",
       "    <tr>\n",
       "      <th>103079</th>\n",
       "      <td>2011-01-01 00:30:00+00:00</td>\n",
       "      <td>2011</td>\n",
       "      <td>1</td>\n",
       "      <td>1</td>\n",
       "      <td>0</td>\n",
       "      <td>3</td>\n",
       "      <td>-22.908</td>\n",
       "      <td>-43.178</td>\n",
       "      <td>0.2</td>\n",
       "      <td>1009.33</td>\n",
       "      <td>1.57</td>\n",
       "      <td>21.81</td>\n",
       "      <td>84.50</td>\n",
       "      <td>250.67</td>\n",
       "      <td>0.34</td>\n",
       "      <td>0.17</td>\n",
       "      <td>17.89</td>\n",
       "      <td>10.00</td>\n",
       "    </tr>\n",
       "    <tr>\n",
       "      <th>163229</th>\n",
       "      <td>2011-01-01 00:30:00+00:00</td>\n",
       "      <td>2011</td>\n",
       "      <td>1</td>\n",
       "      <td>1</td>\n",
       "      <td>0</td>\n",
       "      <td>1</td>\n",
       "      <td>-22.965</td>\n",
       "      <td>-43.180</td>\n",
       "      <td>0.0</td>\n",
       "      <td>1009.52</td>\n",
       "      <td>0.70</td>\n",
       "      <td>24.09</td>\n",
       "      <td>79.79</td>\n",
       "      <td>157.00</td>\n",
       "      <td>0.90</td>\n",
       "      <td>0.15</td>\n",
       "      <td>3.68</td>\n",
       "      <td>34.64</td>\n",
       "    </tr>\n",
       "    <tr>\n",
       "      <th>387059</th>\n",
       "      <td>2011-01-01 01:30:00+00:00</td>\n",
       "      <td>2011</td>\n",
       "      <td>1</td>\n",
       "      <td>1</td>\n",
       "      <td>1</td>\n",
       "      <td>8</td>\n",
       "      <td>-22.925</td>\n",
       "      <td>-43.233</td>\n",
       "      <td>0.0</td>\n",
       "      <td>1006.57</td>\n",
       "      <td>6.50</td>\n",
       "      <td>20.53</td>\n",
       "      <td>92.83</td>\n",
       "      <td>211.17</td>\n",
       "      <td>2.82</td>\n",
       "      <td>0.13</td>\n",
       "      <td>11.90</td>\n",
       "      <td>55.89</td>\n",
       "    </tr>\n",
       "  </tbody>\n",
       "</table>\n",
       "</div>"
      ],
      "text/plain": [
       "                            Data  year  month  day  hour  CodNum     Lat  \\\n",
       "326721 2011-01-01 00:30:00+00:00  2011      1    1     0       7 -22.898   \n",
       "387058 2011-01-01 00:30:00+00:00  2011      1    1     0       8 -22.925   \n",
       "103079 2011-01-01 00:30:00+00:00  2011      1    1     0       3 -22.908   \n",
       "163229 2011-01-01 00:30:00+00:00  2011      1    1     0       1 -22.965   \n",
       "387059 2011-01-01 01:30:00+00:00  2011      1    1     1       8 -22.925   \n",
       "\n",
       "           Lon  Chuva     Pres    RS   Temp     UR  Dir_Vento  Vel_Vento  \\\n",
       "326721 -43.222    0.0  1009.60  2.87  26.66  90.73     180.00       0.47   \n",
       "387058 -43.233    0.0  1007.45  6.40  20.91  89.49     176.83       2.92   \n",
       "103079 -43.178    0.2  1009.33  1.57  21.81  84.50     250.67       0.34   \n",
       "163229 -43.180    0.0  1009.52  0.70  24.09  79.79     157.00       0.90   \n",
       "387059 -43.233    0.0  1006.57  6.50  20.53  92.83     211.17       2.82   \n",
       "\n",
       "          CO     O3   PM10  \n",
       "326721  0.03   8.47   8.00  \n",
       "387058  0.13   5.08  44.05  \n",
       "103079  0.17  17.89  10.00  \n",
       "163229  0.15   3.68  34.64  \n",
       "387059  0.13  11.90  55.89  "
      ]
     },
     "execution_count": 4,
     "metadata": {},
     "output_type": "execute_result"
    }
   ],
   "source": [
    "# For local folder\n",
    "location = \"../data/\"\n",
    "# For Google colab\n",
    "#location = \"drive/MyDrive/Arquivos Acadêmicos/Disciplinas FGV/Machine Learning/\"\n",
    "\n",
    "air_data = pd.read_csv(location + \"RiodeJaneiro_MonitorAr_hourly_p1.csv\", index_col = 0)\n",
    "air_data.Data = pd.to_datetime(air_data.Data) \n",
    "air_data.head()"
   ]
  },
  {
   "cell_type": "markdown",
   "metadata": {
    "id": "Lil0dRg5SJ9G"
   },
   "source": [
    "Removing the pandemic years. "
   ]
  },
  {
   "cell_type": "code",
   "execution_count": 6,
   "metadata": {
    "executionInfo": {
     "elapsed": 396,
     "status": "ok",
     "timestamp": 1623622579320,
     "user": {
      "displayName": "Lucas Machado Moschen",
      "photoUrl": "https://lh3.googleusercontent.com/a-/AOh14Gj184uAa-AIRt4VHOGyK5QavE6WsVbkJzlr0GK4Yro=s64",
      "userId": "01505906457372095834"
     },
     "user_tz": 180
    },
    "id": "CUxNqbz3R9l-"
   },
   "outputs": [],
   "source": [
    "air_data = air_data[air_data.year < 2020]"
   ]
  },
  {
   "cell_type": "markdown",
   "metadata": {
    "id": "_2ztJ7ARjueU"
   },
   "source": [
    "## Feature extraction: seasonal and time variables\n",
    "\n",
    "We add variables in order to help the estimates. We are putting season 0 (summer) to months January, February, and March, for instance. After, we need to ajust the months March, June, September, and December, because each one is divided between two seasons."
   ]
  },
  {
   "cell_type": "code",
   "execution_count": 7,
   "metadata": {
    "executionInfo": {
     "elapsed": 287,
     "status": "ok",
     "timestamp": 1623622613905,
     "user": {
      "displayName": "Lucas Machado Moschen",
      "photoUrl": "https://lh3.googleusercontent.com/a-/AOh14Gj184uAa-AIRt4VHOGyK5QavE6WsVbkJzlr0GK4Yro=s64",
      "userId": "01505906457372095834"
     },
     "user_tz": 180
    },
    "id": "y02X_7KRjueU"
   },
   "outputs": [],
   "source": [
    "air_data[\"weekend\"] = air_data.Data.dt.weekday >= 5\n",
    "air_data[\"season\"] = (air_data.month - 1)// 3\n",
    "air_data.season += (air_data.month == 3)&(air_data.day>=20)\n",
    "air_data.season += (air_data.month == 6)&(air_data.day>=21)\n",
    "air_data.season += (air_data.month == 9)&(air_data.day>=23)\n",
    "air_data.season += (air_data.month == 12)&(air_data.day>=21)\n",
    "air_data.season = air_data.season%4 "
   ]
  },
  {
   "cell_type": "code",
   "execution_count": 8,
   "metadata": {
    "executionInfo": {
     "elapsed": 341,
     "status": "ok",
     "timestamp": 1623622631420,
     "user": {
      "displayName": "Lucas Machado Moschen",
      "photoUrl": "https://lh3.googleusercontent.com/a-/AOh14Gj184uAa-AIRt4VHOGyK5QavE6WsVbkJzlr0GK4Yro=s64",
      "userId": "01505906457372095834"
     },
     "user_tz": 180
    },
    "id": "EZuy4OXIjueU"
   },
   "outputs": [],
   "source": [
    "air_data[\"hour_sin\"] = np.sin(air_data.hour*(2*np.pi/24))\n",
    "air_data[\"hour_cos\"] = np.cos(air_data.hour*(2*np.pi/24))"
   ]
  },
  {
   "cell_type": "markdown",
   "metadata": {
    "id": "wuK7eMwdjudz"
   },
   "source": [
    "## Missing data\n",
    "\n",
    "In this dataset, there is two types of missing data: (1) monitoring stations\n",
    "do not measure all pollutants by construction. For instance, it is not\n",
    "measured CO in Pedra de Guaratiba; and (2) monitoring stations did not\n",
    "measure in a period for some reason. For the first case, missing values remain\n",
    "in the dataset and the prediction is not performed. For the second case, two\n",
    "methods were compared: by location and KNN. \n",
    "\n",
    "We normalize the variables between 0 and 1 since the KNN works comparing the euclidian measure."
   ]
  },
  {
   "cell_type": "code",
   "execution_count": 9,
   "metadata": {
    "executionInfo": {
     "elapsed": 486,
     "status": "ok",
     "timestamp": 1623622634469,
     "user": {
      "displayName": "Lucas Machado Moschen",
      "photoUrl": "https://lh3.googleusercontent.com/a-/AOh14Gj184uAa-AIRt4VHOGyK5QavE6WsVbkJzlr0GK4Yro=s64",
      "userId": "01505906457372095834"
     },
     "user_tz": 180
    },
    "id": "4c8WPpHZ-Kra"
   },
   "outputs": [],
   "source": [
    "variables_missing = [\"month\", \"day\", \"season\", \"hour\", \"CodNum\", \n",
    "                     \"Chuva\", \"Pres\", \"RS\", \"Temp\",\t\n",
    "                     \"UR\", \"Dir_Vento\", \"Vel_Vento\", \n",
    "                     \"CO\", \"O3\", \"PM10\"]"
   ]
  },
  {
   "cell_type": "markdown",
   "metadata": {
    "id": "0hNn-m-G-Mb-"
   },
   "source": [
    "### Evaluation of the methods"
   ]
  },
  {
   "cell_type": "code",
   "execution_count": 44,
   "metadata": {
    "executionInfo": {
     "elapsed": 33,
     "status": "ok",
     "timestamp": 1623622634911,
     "user": {
      "displayName": "Lucas Machado Moschen",
      "photoUrl": "https://lh3.googleusercontent.com/a-/AOh14Gj184uAa-AIRt4VHOGyK5QavE6WsVbkJzlr0GK4Yro=s64",
      "userId": "01505906457372095834"
     },
     "user_tz": 180
    },
    "id": "8dFuO6xdXvqk"
   },
   "outputs": [],
   "source": [
    "imputation_errors = {\n",
    "    \"SimpleImputation\": [],\n",
    "    \"Location\": [],\n",
    "    \"KNN5\": [],\n",
    "    \"KNN10\": [],\n",
    "    \"KNN30\": [],\n",
    "    \"KNN50\": [],\n",
    "    \"KNN100\": [], \n",
    "}\n",
    "\n",
    "k_test_values = [5, 10, 30, 50, 100]\n",
    "\n",
    "df = air_data[air_data.year == 2016][variables_missing]\n",
    "mean_by_hour = df.groupby([\"month\", \"day\", \"hour\"]).mean()"
   ]
  },
  {
   "cell_type": "code",
   "execution_count": 45,
   "metadata": {
    "executionInfo": {
     "elapsed": 29,
     "status": "ok",
     "timestamp": 1623622634913,
     "user": {
      "displayName": "Lucas Machado Moschen",
      "photoUrl": "https://lh3.googleusercontent.com/a-/AOh14Gj184uAa-AIRt4VHOGyK5QavE6WsVbkJzlr0GK4Yro=s64",
      "userId": "01505906457372095834"
     },
     "user_tz": 180
    },
    "id": "eLdaQiAjd1ge"
   },
   "outputs": [],
   "source": [
    "def evaluate_imputation(real, test): \n",
    "    return np.mean((real - test)**2)"
   ]
  },
  {
   "cell_type": "code",
   "execution_count": null,
   "metadata": {
    "id": "K382balCa9Na"
   },
   "outputs": [],
   "source": [
    "for i in tqdm.tqdm(range(100), position = 0): \n",
    "    # sample an initial dataset with non nan values\n",
    "    df_test = df.dropna().sample(frac = 0.2, replace = True, random_state = i)\n",
    "    df_test_normalized = pd.DataFrame(pp.MinMaxScaler().fit_transform(df_test),\n",
    "                                      columns = df_test.columns)\n",
    "\n",
    "    # Select nan values randomly \n",
    "    random_mask = np.ones(df_test.shape)\n",
    "    random_mask[:,4:] = np.random.random((df_test.shape[0], df_test.shape[1]-4))\n",
    "\n",
    "    # Location Imputation\n",
    "    df_real = df_test.mask(random_mask < .07)\n",
    "    for var in variables_missing[4:]: \n",
    "        df_real[var] = df_real.apply(\n",
    "            lambda row: mean_by_hour.loc[(row.month, row.day, row.hour), var] \n",
    "                    if np.isnan(row[var]) else row[var],\n",
    "            axis = 1\n",
    "        )\n",
    "    t1 = pp.MinMaxScaler().fit_transform(df_real)\n",
    "    t2 = pp.MinMaxScaler().fit_transform(df_test)\n",
    "\n",
    "    error = evaluate_imputation(t1, t2)\n",
    "    imputation_errors[\"Location\"].append(error)\n",
    "\n",
    "    # Simple imputation\n",
    "    df_real = df_test_normalized.mask(random_mask < .07)\n",
    "    df_real_input = SimpleImputer(strategy='mean').fit_transform(df_real)\n",
    "    error = evaluate_imputation(df_real_input, df_test_normalized.values)\n",
    "    imputation_errors[\"SimpleImputation\"].append(error)\n",
    "\n",
    "    # kNN Imputation\n",
    "    for i, k in enumerate(k_test_values): \n",
    "        df_real = KNNImputer(n_neighbors=k).fit_transform(df_real)\n",
    "        error = evaluate_imputation(df_real, df_test_normalized.values)\n",
    "        imputation_errors[\"KNN\"+str(k)].append(error)"
   ]
  },
  {
   "cell_type": "code",
   "execution_count": null,
   "metadata": {
    "executionInfo": {
     "elapsed": 11,
     "status": "aborted",
     "timestamp": 1623622639373,
     "user": {
      "displayName": "Lucas Machado Moschen",
      "photoUrl": "https://lh3.googleusercontent.com/a-/AOh14Gj184uAa-AIRt4VHOGyK5QavE6WsVbkJzlr0GK4Yro=s64",
      "userId": "01505906457372095834"
     },
     "user_tz": 180
    },
    "id": "qD0pNcQhmx6_"
   },
   "outputs": [],
   "source": [
    "pd.DataFrame(imputation_errors).mean().sort_values()"
   ]
  },
  {
   "cell_type": "markdown",
   "metadata": {
    "id": "WtnlNSJGe27S"
   },
   "source": [
    "### Imputation with 5-NN method"
   ]
  },
  {
   "cell_type": "code",
   "execution_count": 10,
   "metadata": {
    "colab": {
     "base_uri": "https://localhost:8080/"
    },
    "executionInfo": {
     "elapsed": 128987,
     "status": "ok",
     "timestamp": 1623624572439,
     "user": {
      "displayName": "Lucas Machado Moschen",
      "photoUrl": "https://lh3.googleusercontent.com/a-/AOh14Gj184uAa-AIRt4VHOGyK5QavE6WsVbkJzlr0GK4Yro=s64",
      "userId": "01505906457372095834"
     },
     "user_tz": 180
    },
    "id": "dCRNHnnTs_rm",
    "outputId": "da9b60f5-0a08-44f0-af0b-e03041b0d4ad"
   },
   "outputs": [
    {
     "name": "stderr",
     "output_type": "stream",
     "text": [
      "100%|██████████| 9/9 [23:38<00:00, 157.56s/it]\n"
     ]
    }
   ],
   "source": [
    "for year in tqdm.tqdm(range(2011,2020), position = 0):\n",
    "\n",
    "    df_year = air_data[air_data.year == year]\n",
    "  \n",
    "    scale = pp.MinMaxScaler().fit(df_year[variables_missing])\n",
    "\n",
    "    df_normalized = scale.transform(df_year[variables_missing])\n",
    "  \n",
    "    df_normalized = KNNImputer(n_neighbors=5).fit_transform(df_normalized)\n",
    "\n",
    "    df_year[variables_missing] = scale.inverse_transform(df_normalized) \n",
    "    air_data[air_data.year == year] = df_year"
   ]
  },
  {
   "cell_type": "markdown",
   "metadata": {
    "id": "IuPRRRXsfBeH"
   },
   "source": [
    "Now we save the dataset with imputation (because it takes long)"
   ]
  },
  {
   "cell_type": "code",
   "execution_count": 11,
   "metadata": {
    "executionInfo": {
     "elapsed": 17215,
     "status": "ok",
     "timestamp": 1623624589653,
     "user": {
      "displayName": "Lucas Machado Moschen",
      "photoUrl": "https://lh3.googleusercontent.com/a-/AOh14Gj184uAa-AIRt4VHOGyK5QavE6WsVbkJzlr0GK4Yro=s64",
      "userId": "01505906457372095834"
     },
     "user_tz": 180
    },
    "id": "fqUq4uEGfA7e"
   },
   "outputs": [],
   "source": [
    "#air_data.to_csv(location + \"RiodeJaneiro_MonitorAr_hourly_p2.csv\")"
   ]
  },
  {
   "cell_type": "markdown",
   "metadata": {
    "id": "QVQAEanMjueC"
   },
   "source": [
    "## AIQ \n",
    "\n",
    "We calculate the AIQ for our dataset based on [this manual](https://www.gov.br/mma/pt-br/centrais-de-conteudo/mma-guia-tecnico-qualidade-do-ar-pdf).  "
   ]
  },
  {
   "cell_type": "code",
   "execution_count": 5,
   "metadata": {
    "colab": {
     "base_uri": "https://localhost:8080/",
     "height": 200
    },
    "executionInfo": {
     "elapsed": 2395,
     "status": "ok",
     "timestamp": 1623626266598,
     "user": {
      "displayName": "Lucas Machado Moschen",
      "photoUrl": "https://lh3.googleusercontent.com/a-/AOh14Gj184uAa-AIRt4VHOGyK5QavE6WsVbkJzlr0GK4Yro=s64",
      "userId": "01505906457372095834"
     },
     "user_tz": 180
    },
    "id": "KS2x0oVSOdwX",
    "outputId": "6997a80e-2533-4c44-b11b-bf6d286a16a6"
   },
   "outputs": [
    {
     "data": {
      "text/html": [
       "<div>\n",
       "<style scoped>\n",
       "    .dataframe tbody tr th:only-of-type {\n",
       "        vertical-align: middle;\n",
       "    }\n",
       "\n",
       "    .dataframe tbody tr th {\n",
       "        vertical-align: top;\n",
       "    }\n",
       "\n",
       "    .dataframe thead th {\n",
       "        text-align: right;\n",
       "    }\n",
       "</style>\n",
       "<table border=\"1\" class=\"dataframe\">\n",
       "  <thead>\n",
       "    <tr style=\"text-align: right;\">\n",
       "      <th></th>\n",
       "      <th>Data</th>\n",
       "      <th>year</th>\n",
       "      <th>month</th>\n",
       "      <th>day</th>\n",
       "      <th>hour</th>\n",
       "      <th>CodNum</th>\n",
       "      <th>Lat</th>\n",
       "      <th>Lon</th>\n",
       "      <th>Chuva</th>\n",
       "      <th>Pres</th>\n",
       "      <th>...</th>\n",
       "      <th>UR</th>\n",
       "      <th>Dir_Vento</th>\n",
       "      <th>Vel_Vento</th>\n",
       "      <th>CO</th>\n",
       "      <th>O3</th>\n",
       "      <th>PM10</th>\n",
       "      <th>weekend</th>\n",
       "      <th>season</th>\n",
       "      <th>hour_sin</th>\n",
       "      <th>hour_cos</th>\n",
       "    </tr>\n",
       "  </thead>\n",
       "  <tbody>\n",
       "    <tr>\n",
       "      <th>326721</th>\n",
       "      <td>2011-01-01 00:30:00+00:00</td>\n",
       "      <td>2011</td>\n",
       "      <td>1.0</td>\n",
       "      <td>1.0</td>\n",
       "      <td>0.0</td>\n",
       "      <td>7.0</td>\n",
       "      <td>-22.898</td>\n",
       "      <td>-43.222</td>\n",
       "      <td>0.0</td>\n",
       "      <td>1009.60</td>\n",
       "      <td>...</td>\n",
       "      <td>90.73</td>\n",
       "      <td>180.00</td>\n",
       "      <td>0.47</td>\n",
       "      <td>0.03</td>\n",
       "      <td>8.47</td>\n",
       "      <td>8.00</td>\n",
       "      <td>True</td>\n",
       "      <td>0.0</td>\n",
       "      <td>0.000</td>\n",
       "      <td>1.000</td>\n",
       "    </tr>\n",
       "    <tr>\n",
       "      <th>387058</th>\n",
       "      <td>2011-01-01 00:30:00+00:00</td>\n",
       "      <td>2011</td>\n",
       "      <td>1.0</td>\n",
       "      <td>1.0</td>\n",
       "      <td>0.0</td>\n",
       "      <td>8.0</td>\n",
       "      <td>-22.925</td>\n",
       "      <td>-43.233</td>\n",
       "      <td>0.0</td>\n",
       "      <td>1007.45</td>\n",
       "      <td>...</td>\n",
       "      <td>89.49</td>\n",
       "      <td>176.83</td>\n",
       "      <td>2.92</td>\n",
       "      <td>0.13</td>\n",
       "      <td>5.08</td>\n",
       "      <td>44.05</td>\n",
       "      <td>True</td>\n",
       "      <td>0.0</td>\n",
       "      <td>0.000</td>\n",
       "      <td>1.000</td>\n",
       "    </tr>\n",
       "    <tr>\n",
       "      <th>103079</th>\n",
       "      <td>2011-01-01 00:30:00+00:00</td>\n",
       "      <td>2011</td>\n",
       "      <td>1.0</td>\n",
       "      <td>1.0</td>\n",
       "      <td>0.0</td>\n",
       "      <td>3.0</td>\n",
       "      <td>-22.908</td>\n",
       "      <td>-43.178</td>\n",
       "      <td>0.2</td>\n",
       "      <td>1009.33</td>\n",
       "      <td>...</td>\n",
       "      <td>84.50</td>\n",
       "      <td>250.67</td>\n",
       "      <td>0.34</td>\n",
       "      <td>0.17</td>\n",
       "      <td>17.89</td>\n",
       "      <td>10.00</td>\n",
       "      <td>True</td>\n",
       "      <td>0.0</td>\n",
       "      <td>0.000</td>\n",
       "      <td>1.000</td>\n",
       "    </tr>\n",
       "    <tr>\n",
       "      <th>163229</th>\n",
       "      <td>2011-01-01 00:30:00+00:00</td>\n",
       "      <td>2011</td>\n",
       "      <td>1.0</td>\n",
       "      <td>1.0</td>\n",
       "      <td>0.0</td>\n",
       "      <td>1.0</td>\n",
       "      <td>-22.965</td>\n",
       "      <td>-43.180</td>\n",
       "      <td>0.0</td>\n",
       "      <td>1009.52</td>\n",
       "      <td>...</td>\n",
       "      <td>79.79</td>\n",
       "      <td>157.00</td>\n",
       "      <td>0.90</td>\n",
       "      <td>0.15</td>\n",
       "      <td>3.68</td>\n",
       "      <td>34.64</td>\n",
       "      <td>True</td>\n",
       "      <td>0.0</td>\n",
       "      <td>0.000</td>\n",
       "      <td>1.000</td>\n",
       "    </tr>\n",
       "    <tr>\n",
       "      <th>387059</th>\n",
       "      <td>2011-01-01 01:30:00+00:00</td>\n",
       "      <td>2011</td>\n",
       "      <td>1.0</td>\n",
       "      <td>1.0</td>\n",
       "      <td>1.0</td>\n",
       "      <td>8.0</td>\n",
       "      <td>-22.925</td>\n",
       "      <td>-43.233</td>\n",
       "      <td>0.0</td>\n",
       "      <td>1006.57</td>\n",
       "      <td>...</td>\n",
       "      <td>92.83</td>\n",
       "      <td>211.17</td>\n",
       "      <td>2.82</td>\n",
       "      <td>0.13</td>\n",
       "      <td>11.90</td>\n",
       "      <td>55.89</td>\n",
       "      <td>True</td>\n",
       "      <td>0.0</td>\n",
       "      <td>0.259</td>\n",
       "      <td>0.966</td>\n",
       "    </tr>\n",
       "  </tbody>\n",
       "</table>\n",
       "<p>5 rows × 22 columns</p>\n",
       "</div>"
      ],
      "text/plain": [
       "                             Data  year  month  day  hour  CodNum     Lat  \\\n",
       "326721  2011-01-01 00:30:00+00:00  2011    1.0  1.0   0.0     7.0 -22.898   \n",
       "387058  2011-01-01 00:30:00+00:00  2011    1.0  1.0   0.0     8.0 -22.925   \n",
       "103079  2011-01-01 00:30:00+00:00  2011    1.0  1.0   0.0     3.0 -22.908   \n",
       "163229  2011-01-01 00:30:00+00:00  2011    1.0  1.0   0.0     1.0 -22.965   \n",
       "387059  2011-01-01 01:30:00+00:00  2011    1.0  1.0   1.0     8.0 -22.925   \n",
       "\n",
       "           Lon  Chuva     Pres  ...     UR  Dir_Vento  Vel_Vento    CO     O3  \\\n",
       "326721 -43.222    0.0  1009.60  ...  90.73     180.00       0.47  0.03   8.47   \n",
       "387058 -43.233    0.0  1007.45  ...  89.49     176.83       2.92  0.13   5.08   \n",
       "103079 -43.178    0.2  1009.33  ...  84.50     250.67       0.34  0.17  17.89   \n",
       "163229 -43.180    0.0  1009.52  ...  79.79     157.00       0.90  0.15   3.68   \n",
       "387059 -43.233    0.0  1006.57  ...  92.83     211.17       2.82  0.13  11.90   \n",
       "\n",
       "         PM10  weekend  season  hour_sin  hour_cos  \n",
       "326721   8.00     True     0.0     0.000     1.000  \n",
       "387058  44.05     True     0.0     0.000     1.000  \n",
       "103079  10.00     True     0.0     0.000     1.000  \n",
       "163229  34.64     True     0.0     0.000     1.000  \n",
       "387059  55.89     True     0.0     0.259     0.966  \n",
       "\n",
       "[5 rows x 22 columns]"
      ]
     },
     "execution_count": 5,
     "metadata": {},
     "output_type": "execute_result"
    }
   ],
   "source": [
    "air_data = pd.read_csv(location + \"RiodeJaneiro_MonitorAr_hourly_p2.csv\", index_col = 0)\n",
    "air_data.head()"
   ]
  },
  {
   "cell_type": "code",
   "execution_count": 6,
   "metadata": {},
   "outputs": [],
   "source": [
    "def coef_calculator(i, gas_name): \n",
    "    \"\"\"\n",
    "    Calculate the AIQ coefficients for a specific gas and level.\n",
    "    \"\"\"\n",
    "    gas = change_points[gas_name]\n",
    "    index = change_points[\"Index\"]\n",
    "    b = (index[i]+1) - (index[i+1]-(index[i]+1))/(gas[i+1] - (gas[i]+1))*(gas[i]+1)\n",
    "    a = (index[i+1] - (index[i]+1))/(gas[i+1] - (gas[i] + 1))\n",
    "    return (a, b)\n",
    "\n",
    "change_points = {\n",
    "    \"Index\": [-1,40,80,120,200,400],\n",
    "    \"PM10\": [-1,50,100,150,250,1000],\n",
    "    \"CO\": [-1,9,11,13,15,50],\n",
    "    \"O3\": [-1,100,130,160,200,800]\n",
    "}\n",
    "\n",
    "# precalculated coefficients\n",
    "coefficients = {key: [coef_calculator(i,key) for i in range(5)] for key in [\"PM10\",\"CO\",\"O3\"]}\n",
    "\n",
    "def calc_aic(row, gas_name):\n",
    "    value = row[gas_name]\n",
    "    for i, v in enumerate(change_points[gas_name]):\n",
    "        if value < v: \n",
    "            return coefficients[gas_name][i-1][0]*value + coefficients[gas_name][i-1][1]\n",
    "    print(row)"
   ]
  },
  {
   "cell_type": "code",
   "execution_count": 7,
   "metadata": {},
   "outputs": [],
   "source": [
    "air_data[\"aiq\"] = air_data.apply(lambda row: max(calc_aic(row, \"O3\"), \n",
    "                                                 calc_aic(row, \"CO\"), \n",
    "                                                 calc_aic(row, \"PM10\")), \n",
    "                                axis = 1)"
   ]
  },
  {
   "cell_type": "markdown",
   "metadata": {},
   "source": [
    "## Data transformation\n",
    "\n",
    "We use the Power Transformer Yeo-Johnson in order to reduce heteroscedasticity in the dataset. The lambdas estimated are below. "
   ]
  },
  {
   "cell_type": "code",
   "execution_count": 8,
   "metadata": {
    "colab": {
     "base_uri": "https://localhost:8080/"
    },
    "executionInfo": {
     "elapsed": 13792,
     "status": "ok",
     "timestamp": 1623626281724,
     "user": {
      "displayName": "Lucas Machado Moschen",
      "photoUrl": "https://lh3.googleusercontent.com/a-/AOh14Gj184uAa-AIRt4VHOGyK5QavE6WsVbkJzlr0GK4Yro=s64",
      "userId": "01505906457372095834"
     },
     "user_tz": 180
    },
    "id": "YV8HKHrNjueC",
    "outputId": "5e8607cb-c7f1-4f17-c476-b094c76f06be"
   },
   "outputs": [
    {
     "data": {
      "text/plain": [
       "PowerTransformer()"
      ]
     },
     "execution_count": 8,
     "metadata": {},
     "output_type": "execute_result"
    }
   ],
   "source": [
    "var_continuous = ['Chuva', 'Pres', 'RS', 'Temp', 'UR', 'Dir_Vento', 'Vel_Vento', 'CO', 'O3', 'PM10']\n",
    "\n",
    "pt = pp.PowerTransformer(method = 'yeo-johnson', standardize=True)\n",
    "pt.fit(air_data[var_continuous])"
   ]
  },
  {
   "cell_type": "code",
   "execution_count": 9,
   "metadata": {
    "colab": {
     "base_uri": "https://localhost:8080/"
    },
    "executionInfo": {
     "elapsed": 21,
     "status": "ok",
     "timestamp": 1623626281725,
     "user": {
      "displayName": "Lucas Machado Moschen",
      "photoUrl": "https://lh3.googleusercontent.com/a-/AOh14Gj184uAa-AIRt4VHOGyK5QavE6WsVbkJzlr0GK4Yro=s64",
      "userId": "01505906457372095834"
     },
     "user_tz": 180
    },
    "id": "xSDwolV1jueC",
    "outputId": "8355124d-828c-4396-bea3-e36d866d1147"
   },
   "outputs": [
    {
     "name": "stdout",
     "output_type": "stream",
     "text": [
      "[-20.14, 12.57, -0.1, 0.29, 1.59, 0.81, -0.79, -1.69, 0.28, 0.27]\n"
     ]
    }
   ],
   "source": [
    "print([round(x,2) for x in pt.lambdas_])"
   ]
  },
  {
   "cell_type": "code",
   "execution_count": 10,
   "metadata": {
    "executionInfo": {
     "elapsed": 526,
     "status": "ok",
     "timestamp": 1623626282240,
     "user": {
      "displayName": "Lucas Machado Moschen",
      "photoUrl": "https://lh3.googleusercontent.com/a-/AOh14Gj184uAa-AIRt4VHOGyK5QavE6WsVbkJzlr0GK4Yro=s64",
      "userId": "01505906457372095834"
     },
     "user_tz": 180
    },
    "id": "q5IGxW40jueC"
   },
   "outputs": [],
   "source": [
    "transform_air_data = pt.transform(air_data[var_continuous])"
   ]
  },
  {
   "cell_type": "markdown",
   "metadata": {
    "id": "O9ygx4p1jueS"
   },
   "source": [
    "We can see the differences to the gases measured. "
   ]
  },
  {
   "cell_type": "code",
   "execution_count": 11,
   "metadata": {
    "colab": {
     "base_uri": "https://localhost:8080/",
     "height": 285
    },
    "executionInfo": {
     "elapsed": 3472,
     "status": "ok",
     "timestamp": 1623624696733,
     "user": {
      "displayName": "Lucas Machado Moschen",
      "photoUrl": "https://lh3.googleusercontent.com/a-/AOh14Gj184uAa-AIRt4VHOGyK5QavE6WsVbkJzlr0GK4Yro=s64",
      "userId": "01505906457372095834"
     },
     "user_tz": 180
    },
    "id": "3FxqQqeyjueU",
    "outputId": "0fdc283e-d487-4eb3-ccec-a672901df850"
   },
   "outputs": [
    {
     "data": {
      "image/png": "[encoded data removed]",
      "text/plain": [
       "<Figure size 1008x288 with 6 Axes>"
      ]
     },
     "metadata": {
      "needs_background": "light"
     },
     "output_type": "display_data"
    }
   ],
   "source": [
    "fig, ax = plt.subplots(2,3,figsize = (14,4))\n",
    "air_data.CO.plot.hist(ax = ax[0][0], density = True, title = 'CO')\n",
    "air_data.O3.plot.hist(ax = ax[0][1], density = True, title = r'O$_3$')\n",
    "air_data.PM10.plot.hist(ax = ax[0][2], density = True, title = r'PM$_{10}$')\n",
    "\n",
    "ax[1][0].hist(transform_air_data[:,-3], density = True)\n",
    "ax[1][1].hist(transform_air_data[:,-2], density = True)\n",
    "ax[1][2].hist(transform_air_data[:,-1], density = True)\n",
    "\n",
    "ax[0][0].set_ylabel(\"Before transform\")\n",
    "ax[1][0].set_ylabel(\"After transform\")\n",
    "ax[0][1].set_ylabel(\"\")\n",
    "ax[0][2].set_ylabel(\"\")\n",
    "\n",
    "plt.savefig(IMAGES_FOLDER + \"before_after_transform_gases.eps\", bbox_inches=\"tight\")\n",
    "plt.show()"
   ]
  },
  {
   "cell_type": "code",
   "execution_count": 12,
   "metadata": {
    "executionInfo": {
     "elapsed": 1437,
     "status": "ok",
     "timestamp": 1623626286457,
     "user": {
      "displayName": "Lucas Machado Moschen",
      "photoUrl": "https://lh3.googleusercontent.com/a-/AOh14Gj184uAa-AIRt4VHOGyK5QavE6WsVbkJzlr0GK4Yro=s64",
      "userId": "01505906457372095834"
     },
     "user_tz": 180
    },
    "id": "9J4BqaGJjueU"
   },
   "outputs": [],
   "source": [
    "air_data[var_continuous] = transform_air_data"
   ]
  },
  {
   "cell_type": "markdown",
   "metadata": {
    "id": "w3_9_sg6p7iq"
   },
   "source": [
    "### Reconverting int variables"
   ]
  },
  {
   "cell_type": "code",
   "execution_count": 13,
   "metadata": {
    "executionInfo": {
     "elapsed": 293,
     "status": "ok",
     "timestamp": 1623626521105,
     "user": {
      "displayName": "Lucas Machado Moschen",
      "photoUrl": "https://lh3.googleusercontent.com/a-/AOh14Gj184uAa-AIRt4VHOGyK5QavE6WsVbkJzlr0GK4Yro=s64",
      "userId": "01505906457372095834"
     },
     "user_tz": 180
    },
    "id": "o7ewi7oYqw0i"
   },
   "outputs": [],
   "source": [
    "int_var = [\"year\", \"month\", \"day\", \"hour\", \"CodNum\", \"season\"]\n",
    "air_data[int_var] = air_data[int_var].apply(lambda x: round(x).astype(int))"
   ]
  },
  {
   "cell_type": "markdown",
   "metadata": {
    "id": "V4tiT2GsruaJ"
   },
   "source": [
    "### ACF and PACF"
   ]
  },
  {
   "cell_type": "code",
   "execution_count": 14,
   "metadata": {
    "colab": {
     "base_uri": "https://localhost:8080/",
     "height": 1000
    },
    "executionInfo": {
     "elapsed": 16748,
     "status": "ok",
     "timestamp": 1623624714739,
     "user": {
      "displayName": "Lucas Machado Moschen",
      "photoUrl": "https://lh3.googleusercontent.com/a-/AOh14Gj184uAa-AIRt4VHOGyK5QavE6WsVbkJzlr0GK4Yro=s64",
      "userId": "01505906457372095834"
     },
     "user_tz": 180
    },
    "id": "A_kffLlhjueU",
    "outputId": "7eba0c47-7035-4ebf-8ff4-5a988d6eeaed"
   },
   "outputs": [
    {
     "data": {
      "image/png": "[encoded data removed]",
      "text/plain": [
       "<Figure size 1440x864 with 12 Axes>"
      ]
     },
     "metadata": {
      "needs_background": "light"
     },
     "output_type": "display_data"
    }
   ],
   "source": [
    "fig, ax = plt.subplots(nrows=3,ncols=4,sharex=True,sharey=True,figsize=(20,12))\n",
    "\n",
    "# Copacabana and Bangu stations\n",
    "names = [\"Copacabana\", \"Bangu\"]\n",
    "for i in [1,2]: \n",
    "    for e, gas in enumerate([\"CO\", \"O3\", \"PM10\"]):\n",
    "  \n",
    "        df = air_data[(air_data.CodNum == i)][gas]\n",
    "  \n",
    "        plot_acf(df, ax = ax[e][2*i-2], \n",
    "                 title = \"ACF {} at {} station\".format(gas, names[i-1]))\n",
    "        plot_pacf(df, ax = ax[e][2*i-1],\n",
    "                  title = \"PACF {} at {} station\".format(gas, names[i-1]))\n",
    "\n",
    "#plt.savefig(IMAGES_FOLDER + \"acf_pacf_gases.eps\", bbox_inches = \"tight\")\n",
    "plt.show()"
   ]
  },
  {
   "cell_type": "markdown",
   "metadata": {},
   "source": [
    "## Divinding train and test set"
   ]
  },
  {
   "cell_type": "code",
   "execution_count": 15,
   "metadata": {},
   "outputs": [],
   "source": [
    "air_data.sort_values([\"year\", \"month\", \"day\", \"hour\"], inplace = True)\n",
    "\n",
    "datas = air_data.Data.unique()\n",
    "map_train_test = {date: date <= datas[int(0.7*datas.shape[0])+1] for date in datas}\n",
    "\n",
    "air_data[\"train\"] = air_data.Data.map(map_train_test)"
   ]
  },
  {
   "cell_type": "markdown",
   "metadata": {},
   "source": [
    "## Adding past values"
   ]
  },
  {
   "cell_type": "code",
   "execution_count": 23,
   "metadata": {
    "executionInfo": {
     "elapsed": 1677,
     "status": "ok",
     "timestamp": 1623627663040,
     "user": {
      "displayName": "Lucas Machado Moschen",
      "photoUrl": "https://lh3.googleusercontent.com/a-/AOh14Gj184uAa-AIRt4VHOGyK5QavE6WsVbkJzlr0GK4Yro=s64",
      "userId": "01505906457372095834"
     },
     "user_tz": 180
    },
    "id": "tRz675hXk5aF"
   },
   "outputs": [],
   "source": [
    "for gas in [\"CO\", \"O3\", \"PM10\"]:\n",
    "    for lag in [\"1\",\"2\",\"24\"]: \n",
    "        air_data[gas+\"_lag\"+lag] = air_data[gas]\n",
    "    air_data[gas+\"_MA24\"] = air_data[gas]\n",
    "\n",
    "for station in range(1,9):\n",
    "    for gas in [\"CO\", \"O3\", \"PM10\"]: \n",
    "        for lag in [1,2,24]:\n",
    "            df =  air_data.loc[air_data.CodNum == station, gas+\"_lag\"+str(lag)].shift(lag)\n",
    "            air_data.loc[air_data.CodNum == station, gas+\"_lag\"+str(lag)] = df\n",
    "        df = air_data.loc[air_data.CodNum == station, gas+\"_MA24\"].rolling(window = 24).mean()\n",
    "        air_data.loc[air_data.CodNum == station, gas+\"_MA24\"] = df\n",
    "\n",
    "air_data.drop(columns=[\"Data\", \"hour\"], inplace=True)\n",
    "air_data.dropna(inplace = True)"
   ]
  },
  {
   "cell_type": "code",
   "execution_count": 24,
   "metadata": {
    "executionInfo": {
     "elapsed": 25036,
     "status": "ok",
     "timestamp": 1623627691325,
     "user": {
      "displayName": "Lucas Machado Moschen",
      "photoUrl": "https://lh3.googleusercontent.com/a-/AOh14Gj184uAa-AIRt4VHOGyK5QavE6WsVbkJzlr0GK4Yro=s64",
      "userId": "01505906457372095834"
     },
     "user_tz": 180
    },
    "id": "jr5MRlB3uu1S"
   },
   "outputs": [],
   "source": [
    "air_data.to_csv(location + \"RiodeJaneiro_MonitorAr_hourly_p3.csv\")"
   ]
  },
  {
   "cell_type": "code",
   "execution_count": null,
   "metadata": {},
   "outputs": [],
   "source": []
  }
 ],
 "metadata": {
  "colab": {
   "collapsed_sections": [],
   "name": "data_engineering.ipynb",
   "provenance": []
  },
  "kernelspec": {
   "display_name": "machineLearning",
   "language": "python",
   "name": "machinelearning"
  },
  "language_info": {
   "codemirror_mode": {
    "name": "ipython",
    "version": 3
   },
   "file_extension": ".py",
   "mimetype": "text/x-python",
   "name": "python",
   "nbconvert_exporter": "python",
   "pygments_lexer": "ipython3",
   "version": "3.9.4"
  }
 },
 "nbformat": 4,
 "nbformat_minor": 4
}
