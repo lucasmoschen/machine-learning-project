{
 "cells": [
  {
   "cell_type": "markdown",
   "id": "48208abc-6e63-45e0-a93a-8cb338867d67",
   "metadata": {},
   "source": [
    "# Models \n",
    "\n",
    "In this notebook, we develop the models for the transformed dataset. "
   ]
  },
  {
   "cell_type": "code",
   "execution_count": 36,
   "id": "94f69d51-1dee-4c7b-ab0c-737ceae9a1d6",
   "metadata": {},
   "outputs": [],
   "source": [
    "import pandas as pd\n",
    "import numpy as np\n",
    "import os\n",
    "import tqdm\n",
    "\n",
    "# plotting\n",
    "import matplotlib.pyplot as plt\n",
    "import matplotlib\n",
    "import seaborn as sns\n",
    "\n",
    "# models \n",
    "from sklearn.linear_model import LinearRegression\n",
    "import statsmodels.api as sm\n",
    "from sklearn.svm import LinearSVR\n",
    "\n",
    "# others\n",
    "from sklearn.metrics import mean_squared_error, r2_score, mean_absolute_error\n",
    "from sklearn.feature_selection import SequentialFeatureSelector\n",
    "from sklearn.pipeline import make_pipeline\n",
    "from sklearn.preprocessing import StandardScaler"
   ]
  },
  {
   "cell_type": "markdown",
   "id": "38338f3f-e09c-4dda-81bd-d2cc34ebb51e",
   "metadata": {},
   "source": [
    "## Definitions for the notebook"
   ]
  },
  {
   "cell_type": "code",
   "execution_count": 2,
   "id": "15c66750-99d3-4bbe-bfb2-d9f5ef7f84f6",
   "metadata": {},
   "outputs": [],
   "source": [
    "# For local folder\n",
    "IMAGES_FOLDER = \"../notes/images/\"\n",
    "# For Google colab\n",
    "#IMAGES_FOLDER = \"drive/MyDrive/Arquivos Acadêmicos/Disciplinas FGV/Machine Learning/images/\"\n",
    "\n",
    "sns.set()\n",
    "\n",
    "pd.set_option('precision', 3)\n",
    "pd.options.mode.chained_assignment = None\n",
    "\n",
    "%matplotlib inline"
   ]
  },
  {
   "cell_type": "markdown",
   "id": "c52349d4-48f6-45cb-8597-b07b0df457e4",
   "metadata": {},
   "source": [
    "## Importing the dataset"
   ]
  },
  {
   "cell_type": "code",
   "execution_count": 3,
   "id": "c44b8227-3a40-43d9-b9dc-f33c9689be4c",
   "metadata": {},
   "outputs": [
    {
     "data": {
      "text/html": [
       "<div>\n",
       "<style scoped>\n",
       "    .dataframe tbody tr th:only-of-type {\n",
       "        vertical-align: middle;\n",
       "    }\n",
       "\n",
       "    .dataframe tbody tr th {\n",
       "        vertical-align: top;\n",
       "    }\n",
       "\n",
       "    .dataframe thead th {\n",
       "        text-align: right;\n",
       "    }\n",
       "</style>\n",
       "<table border=\"1\" class=\"dataframe\">\n",
       "  <thead>\n",
       "    <tr style=\"text-align: right;\">\n",
       "      <th></th>\n",
       "      <th>year</th>\n",
       "      <th>month</th>\n",
       "      <th>day</th>\n",
       "      <th>CodNum</th>\n",
       "      <th>Lat</th>\n",
       "      <th>Lon</th>\n",
       "      <th>Chuva</th>\n",
       "      <th>Pres</th>\n",
       "      <th>RS</th>\n",
       "      <th>Temp</th>\n",
       "      <th>...</th>\n",
       "      <th>CO_lag24</th>\n",
       "      <th>CO_MA24</th>\n",
       "      <th>O3_lag1</th>\n",
       "      <th>O3_lag2</th>\n",
       "      <th>O3_lag24</th>\n",
       "      <th>O3_MA24</th>\n",
       "      <th>PM10_lag1</th>\n",
       "      <th>PM10_lag2</th>\n",
       "      <th>PM10_lag24</th>\n",
       "      <th>PM10_MA24</th>\n",
       "    </tr>\n",
       "  </thead>\n",
       "  <tbody>\n",
       "    <tr>\n",
       "      <th>163253</th>\n",
       "      <td>2011</td>\n",
       "      <td>1</td>\n",
       "      <td>2</td>\n",
       "      <td>1</td>\n",
       "      <td>-22.965</td>\n",
       "      <td>-43.180</td>\n",
       "      <td>3.617</td>\n",
       "      <td>-1.530</td>\n",
       "      <td>-1.128</td>\n",
       "      <td>-0.140</td>\n",
       "      <td>...</td>\n",
       "      <td>-0.763</td>\n",
       "      <td>-0.936</td>\n",
       "      <td>-0.738</td>\n",
       "      <td>-0.543</td>\n",
       "      <td>-1.190</td>\n",
       "      <td>-0.365</td>\n",
       "      <td>0.101</td>\n",
       "      <td>0.078</td>\n",
       "      <td>0.087</td>\n",
       "      <td>0.082</td>\n",
       "    </tr>\n",
       "    <tr>\n",
       "      <th>326745</th>\n",
       "      <td>2011</td>\n",
       "      <td>1</td>\n",
       "      <td>2</td>\n",
       "      <td>7</td>\n",
       "      <td>-22.898</td>\n",
       "      <td>-43.222</td>\n",
       "      <td>-0.272</td>\n",
       "      <td>-1.513</td>\n",
       "      <td>-0.565</td>\n",
       "      <td>0.560</td>\n",
       "      <td>...</td>\n",
       "      <td>-1.678</td>\n",
       "      <td>-1.232</td>\n",
       "      <td>-0.612</td>\n",
       "      <td>-0.997</td>\n",
       "      <td>-0.724</td>\n",
       "      <td>-0.187</td>\n",
       "      <td>-0.307</td>\n",
       "      <td>-0.967</td>\n",
       "      <td>-1.858</td>\n",
       "      <td>-1.136</td>\n",
       "    </tr>\n",
       "    <tr>\n",
       "      <th>103103</th>\n",
       "      <td>2011</td>\n",
       "      <td>1</td>\n",
       "      <td>2</td>\n",
       "      <td>3</td>\n",
       "      <td>-22.908</td>\n",
       "      <td>-43.178</td>\n",
       "      <td>3.617</td>\n",
       "      <td>-1.557</td>\n",
       "      <td>-0.720</td>\n",
       "      <td>-0.470</td>\n",
       "      <td>...</td>\n",
       "      <td>-0.634</td>\n",
       "      <td>-0.166</td>\n",
       "      <td>-0.211</td>\n",
       "      <td>-0.717</td>\n",
       "      <td>-0.169</td>\n",
       "      <td>-0.027</td>\n",
       "      <td>-0.677</td>\n",
       "      <td>-0.677</td>\n",
       "      <td>-1.617</td>\n",
       "      <td>-1.141</td>\n",
       "    </tr>\n",
       "    <tr>\n",
       "      <th>387082</th>\n",
       "      <td>2011</td>\n",
       "      <td>1</td>\n",
       "      <td>2</td>\n",
       "      <td>8</td>\n",
       "      <td>-22.925</td>\n",
       "      <td>-43.233</td>\n",
       "      <td>3.617</td>\n",
       "      <td>-1.909</td>\n",
       "      <td>-0.194</td>\n",
       "      <td>-1.068</td>\n",
       "      <td>...</td>\n",
       "      <td>-0.897</td>\n",
       "      <td>-1.283</td>\n",
       "      <td>-0.267</td>\n",
       "      <td>-0.184</td>\n",
       "      <td>-1.028</td>\n",
       "      <td>0.274</td>\n",
       "      <td>-0.773</td>\n",
       "      <td>-0.583</td>\n",
       "      <td>0.495</td>\n",
       "      <td>-1.061</td>\n",
       "    </tr>\n",
       "    <tr>\n",
       "      <th>326746</th>\n",
       "      <td>2011</td>\n",
       "      <td>1</td>\n",
       "      <td>2</td>\n",
       "      <td>7</td>\n",
       "      <td>-22.898</td>\n",
       "      <td>-43.222</td>\n",
       "      <td>3.617</td>\n",
       "      <td>-1.658</td>\n",
       "      <td>-0.567</td>\n",
       "      <td>0.548</td>\n",
       "      <td>...</td>\n",
       "      <td>-1.591</td>\n",
       "      <td>-1.206</td>\n",
       "      <td>-1.300</td>\n",
       "      <td>-0.612</td>\n",
       "      <td>-1.099</td>\n",
       "      <td>-0.204</td>\n",
       "      <td>-0.484</td>\n",
       "      <td>-0.307</td>\n",
       "      <td>-0.967</td>\n",
       "      <td>-1.136</td>\n",
       "    </tr>\n",
       "  </tbody>\n",
       "</table>\n",
       "<p>5 rows × 34 columns</p>\n",
       "</div>"
      ],
      "text/plain": [
       "        year  month  day  CodNum     Lat     Lon  Chuva   Pres     RS   Temp  \\\n",
       "163253  2011      1    2       1 -22.965 -43.180  3.617 -1.530 -1.128 -0.140   \n",
       "326745  2011      1    2       7 -22.898 -43.222 -0.272 -1.513 -0.565  0.560   \n",
       "103103  2011      1    2       3 -22.908 -43.178  3.617 -1.557 -0.720 -0.470   \n",
       "387082  2011      1    2       8 -22.925 -43.233  3.617 -1.909 -0.194 -1.068   \n",
       "326746  2011      1    2       7 -22.898 -43.222  3.617 -1.658 -0.567  0.548   \n",
       "\n",
       "        ...  CO_lag24  CO_MA24  O3_lag1  O3_lag2  O3_lag24  O3_MA24  \\\n",
       "163253  ...    -0.763   -0.936   -0.738   -0.543    -1.190   -0.365   \n",
       "326745  ...    -1.678   -1.232   -0.612   -0.997    -0.724   -0.187   \n",
       "103103  ...    -0.634   -0.166   -0.211   -0.717    -0.169   -0.027   \n",
       "387082  ...    -0.897   -1.283   -0.267   -0.184    -1.028    0.274   \n",
       "326746  ...    -1.591   -1.206   -1.300   -0.612    -1.099   -0.204   \n",
       "\n",
       "        PM10_lag1  PM10_lag2  PM10_lag24  PM10_MA24  \n",
       "163253      0.101      0.078       0.087      0.082  \n",
       "326745     -0.307     -0.967      -1.858     -1.136  \n",
       "103103     -0.677     -0.677      -1.617     -1.141  \n",
       "387082     -0.773     -0.583       0.495     -1.061  \n",
       "326746     -0.484     -0.307      -0.967     -1.136  \n",
       "\n",
       "[5 rows x 34 columns]"
      ]
     },
     "execution_count": 3,
     "metadata": {},
     "output_type": "execute_result"
    }
   ],
   "source": [
    "# For local folder\n",
    "location = \"../data/\"\n",
    "# For Google colab\n",
    "#location = \"drive/MyDrive/Arquivos Acadêmicos/Disciplinas FGV/Machine Learning/\"\n",
    "\n",
    "air_data = pd.read_csv(location + \"RiodeJaneiro_MonitorAr_hourly_p3.csv\", index_col = 0)\n",
    "air_data.weekend = air_data.weekend.astype(int)\n",
    "air_data.head()"
   ]
  },
  {
   "cell_type": "code",
   "execution_count": 4,
   "id": "60acefbb-d182-4718-89e8-0ffbda84e380",
   "metadata": {},
   "outputs": [],
   "source": [
    "df_train = air_data[air_data.train].drop(columns='train')\n",
    "df_test = air_data[~air_data.train].drop(columns='train')\n",
    "\n",
    "x_train = df_train.drop(columns=[\"O3\", 'CO', 'PM10', 'aiq', 'Lat', 'Lon'])\n",
    "x_test = df_test.drop(columns=[\"O3\", 'CO', 'PM10', 'aiq', 'Lat', 'Lon'])"
   ]
  },
  {
   "cell_type": "markdown",
   "id": "c23915ab-7db0-4573-869b-f4fa389d0078",
   "metadata": {},
   "source": [
    "## Linear regression\n",
    "\n",
    "We first start with the ozone. "
   ]
  },
  {
   "cell_type": "code",
   "execution_count": 5,
   "id": "4aadcaba-7eac-40e9-8c0b-3b591f93e356",
   "metadata": {},
   "outputs": [],
   "source": [
    "y_train = df_train['O3']\n",
    "y_test = df_test['O3']"
   ]
  },
  {
   "cell_type": "code",
   "execution_count": 6,
   "id": "869cf321-53ac-449a-a243-84bc7ac3c659",
   "metadata": {},
   "outputs": [
    {
     "name": "stdout",
     "output_type": "stream",
     "text": [
      "                            OLS Regression Results                            \n",
      "==============================================================================\n",
      "Dep. Variable:                     O3   R-squared:                       0.882\n",
      "Model:                            OLS   Adj. R-squared:                  0.882\n",
      "Method:                 Least Squares   F-statistic:                 1.104e+05\n",
      "Date:                Wed, 16 Jun 2021   Prob (F-statistic):               0.00\n",
      "Time:                        22:20:08   Log-Likelihood:            -1.5507e+05\n",
      "No. Observations:              399541   AIC:                         3.102e+05\n",
      "Df Residuals:                  399513   BIC:                         3.105e+05\n",
      "Df Model:                          27                                         \n",
      "Covariance Type:            nonrobust                                         \n",
      "==============================================================================\n",
      "                 coef    std err          t      P>|t|      [0.025      0.975]\n",
      "------------------------------------------------------------------------------\n",
      "const          4.3921      0.713      6.156      0.000       2.994       5.791\n",
      "year          -0.0022      0.000     -6.226      0.000      -0.003      -0.002\n",
      "month         -0.0010      0.000     -3.197      0.001      -0.002      -0.000\n",
      "day          4.36e-05   6.44e-05      0.677      0.498   -8.26e-05       0.000\n",
      "CodNum         0.0036      0.000     13.528      0.000       0.003       0.004\n",
      "Chuva          0.0265      0.001     42.844      0.000       0.025       0.028\n",
      "Pres           0.0332      0.001     42.488      0.000       0.032       0.035\n",
      "RS             0.1437      0.002     92.035      0.000       0.141       0.147\n",
      "Temp           0.0290      0.001     26.541      0.000       0.027       0.031\n",
      "UR            -0.0528      0.001    -56.167      0.000      -0.055      -0.051\n",
      "Dir_Vento      0.0231      0.001     38.817      0.000       0.022       0.024\n",
      "Vel_Vento      0.0750      0.001    105.189      0.000       0.074       0.076\n",
      "weekend        0.0355      0.001     28.142      0.000       0.033       0.038\n",
      "season         0.0114      0.001     11.715      0.000       0.010       0.013\n",
      "hour_sin       0.0561      0.001     45.702      0.000       0.054       0.059\n",
      "hour_cos       0.1013      0.002     48.033      0.000       0.097       0.105\n",
      "CO_lag1       -0.0129      0.001     -8.735      0.000      -0.016      -0.010\n",
      "CO_lag2        0.0262      0.002     16.989      0.000       0.023       0.029\n",
      "CO_lag24       0.0070      0.001      7.266      0.000       0.005       0.009\n",
      "CO_MA24       -0.0016      0.002     -0.997      0.319      -0.005       0.002\n",
      "O3_lag1        0.9635      0.002    569.236      0.000       0.960       0.967\n",
      "O3_lag2       -0.2034      0.002   -119.728      0.000      -0.207      -0.200\n",
      "O3_lag24       0.0618      0.001     64.919      0.000       0.060       0.064\n",
      "O3_MA24        0.0877      0.002     54.285      0.000       0.085       0.091\n",
      "PM10_lag1      0.0096      0.001      7.524      0.000       0.007       0.012\n",
      "PM10_lag2     -0.0110      0.001     -8.851      0.000      -0.013      -0.009\n",
      "PM10_lag24     0.0170      0.001     19.610      0.000       0.015       0.019\n",
      "PM10_MA24      0.0010      0.002      0.677      0.498      -0.002       0.004\n",
      "==============================================================================\n",
      "Omnibus:                    28391.886   Durbin-Watson:                   1.704\n",
      "Prob(Omnibus):                  0.000   Jarque-Bera (JB):           141730.458\n",
      "Skew:                          -0.130   Prob(JB):                         0.00\n",
      "Kurtosis:                       5.906   Cond. No.                     2.55e+06\n",
      "==============================================================================\n",
      "\n",
      "Notes:\n",
      "[1] Standard Errors assume that the covariance matrix of the errors is correctly specified.\n",
      "[2] The condition number is large, 2.55e+06. This might indicate that there are\n",
      "strong multicollinearity or other numerical problems.\n"
     ]
    }
   ],
   "source": [
    "x_train_sm = sm.add_constant(x_train)\n",
    "\n",
    "reg = sm.OLS(y_train, x_train_sm)\n",
    "res = reg.fit()\n",
    "print(res.summary())"
   ]
  },
  {
   "cell_type": "code",
   "execution_count": 22,
   "id": "7258b17d-e183-4999-aad6-4a183d390f1c",
   "metadata": {},
   "outputs": [
    {
     "name": "stdout",
     "output_type": "stream",
     "text": [
      "R2 train set: 0.8817760841297959\n",
      "MAE train set: 0.2598833632086775\n",
      "RMSE train set: 0.3567183601835723\n",
      "R2 test set: 0.8718723078209152\n",
      "MAE test set: 0.23134658592918386\n",
      "RMSE test set: 0.3167052629463962\n"
     ]
    }
   ],
   "source": [
    "x_test_sm = sm.add_constant(x_test)\n",
    "y_pred = res.predict(x_test_sm)\n",
    "\n",
    "y_train_pred = res.predict(x_train_sm)\n",
    "\n",
    "print(\"R2 train set: {}\".format(r2_score(y_train, y_train_pred)))\n",
    "print(\"MAE train set: {}\".format(mean_absolute_error(y_train, y_train_pred)))\n",
    "print(\"RMSE train set: {}\".format(mean_squared_error(y_train, y_train_pred, squared = False)))\n",
    "\n",
    "print(\"R2 test set: {}\".format(r2_score(y_test, y_pred)))\n",
    "print(\"MAE test set: {}\".format(mean_absolute_error(y_test, y_pred)))\n",
    "print(\"RMSE test set: {}\".format(mean_squared_error(y_test, y_pred, squared = False)))"
   ]
  },
  {
   "cell_type": "markdown",
   "id": "b45f183c-d6f2-45dc-affb-192cf0243066",
   "metadata": {},
   "source": [
    "## Support vector machine"
   ]
  },
  {
   "cell_type": "code",
   "execution_count": 31,
   "id": "247af7d8-acc3-4549-af26-88b009dbc2b5",
   "metadata": {},
   "outputs": [],
   "source": [
    "x_train_AV = x_train[x_train.CodNum==1]\n",
    "x_test_AV =  x_test[x_test.CodNum==1]\n",
    "\n",
    "y_train_AV = df_train[df_train.CodNum==1]['O3']\n",
    "y_test_AV = df_test[df_test.CodNum==1]['O3']"
   ]
  },
  {
   "cell_type": "code",
   "execution_count": 37,
   "id": "b28e3a56-a35f-43dc-b6d1-2921a7b5ed11",
   "metadata": {},
   "outputs": [
    {
     "name": "stderr",
     "output_type": "stream",
     "text": [
      "/home/lucasmoschen/anaconda3/envs/machineLearning/lib/python3.9/site-packages/sklearn/svm/_base.py:985: ConvergenceWarning: Liblinear failed to converge, increase the number of iterations.\n",
      "  warnings.warn(\"Liblinear failed to converge, increase \"\n"
     ]
    },
    {
     "data": {
      "text/plain": [
       "Pipeline(steps=[('standardscaler', StandardScaler()),\n",
       "                ('linearsvr', LinearSVR(random_state=0))])"
      ]
     },
     "execution_count": 37,
     "metadata": {},
     "output_type": "execute_result"
    }
   ],
   "source": [
    "regr = make_pipeline(StandardScaler(), \n",
    "                     LinearSVR(random_state=0, tol=1e-4))\n",
    "\n",
    "regr.fit(x_train_AV, y_train_AV)"
   ]
  },
  {
   "cell_type": "code",
   "execution_count": null,
   "id": "54488b55-2890-4ec7-aa57-39883bf79efd",
   "metadata": {},
   "outputs": [],
   "source": []
  }
 ],
 "metadata": {
  "kernelspec": {
   "display_name": "machineLearning",
   "language": "python",
   "name": "machinelearning"
  },
  "language_info": {
   "codemirror_mode": {
    "name": "ipython",
    "version": 3
   },
   "file_extension": ".py",
   "mimetype": "text/x-python",
   "name": "python",
   "nbconvert_exporter": "python",
   "pygments_lexer": "ipython3",
   "version": "3.9.4"
  }
 },
 "nbformat": 4,
 "nbformat_minor": 5
}
