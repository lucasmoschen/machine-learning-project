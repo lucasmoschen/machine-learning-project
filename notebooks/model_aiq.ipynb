{
 "cells": [
  {
   "cell_type": "markdown",
   "id": "48208abc-6e63-45e0-a93a-8cb338867d67",
   "metadata": {},
   "source": [
    "# Model for AIQ  \n",
    "\n",
    "In this notebook, we develop the models for the transformed dataset considering the exogenous variable to be the **AIQ**."
   ]
  },
  {
   "cell_type": "code",
   "execution_count": 1,
   "id": "e28bf549-2adb-4ae3-9f5b-a497e748cd14",
   "metadata": {},
   "outputs": [],
   "source": [
    "%load_ext autoreload"
   ]
  },
  {
   "cell_type": "code",
   "execution_count": 2,
   "id": "c676c817-f2fa-4705-b74c-1a0f9facfa8b",
   "metadata": {},
   "outputs": [],
   "source": [
    "%autoreload 2"
   ]
  },
  {
   "cell_type": "code",
   "execution_count": 3,
   "id": "94f69d51-1dee-4c7b-ab0c-737ceae9a1d6",
   "metadata": {},
   "outputs": [],
   "source": [
    "import pandas as pd\n",
    "import numpy as np\n",
    "import os\n",
    "from utilities import Utilities\n",
    "\n",
    "# plotting\n",
    "import matplotlib.pyplot as plt\n",
    "import matplotlib\n",
    "import seaborn as sns\n",
    "\n",
    "# models \n",
    "from sklearn.svm import SVR\n",
    "from sklearn.ensemble import RandomForestRegressor\n",
    "\n",
    "# others\n",
    "from sklearn.metrics import mean_squared_error, r2_score, mean_absolute_error\n",
    "from sklearn.pipeline import make_pipeline, Pipeline\n",
    "from sklearn.preprocessing import StandardScaler, PowerTransformer, PolynomialFeatures"
   ]
  },
  {
   "cell_type": "markdown",
   "id": "38338f3f-e09c-4dda-81bd-d2cc34ebb51e",
   "metadata": {},
   "source": [
    "## Definitions for the notebook"
   ]
  },
  {
   "cell_type": "code",
   "execution_count": 4,
   "id": "15c66750-99d3-4bbe-bfb2-d9f5ef7f84f6",
   "metadata": {},
   "outputs": [],
   "source": [
    "# For local folder\n",
    "IMAGES_FOLDER = \"../notes/images/\"\n",
    "# For Google colab\n",
    "#IMAGES_FOLDER = \"drive/MyDrive/Arquivos Acadêmicos/Disciplinas FGV/Machine Learning/images/\"\n",
    "\n",
    "# For local folder\n",
    "location = \"../data/\"\n",
    "# For Google colab\n",
    "#location = \"drive/MyDrive/Arquivos Acadêmicos/Disciplinas FGV/Machine Learning/\"\n",
    "\n",
    "sns.set()\n",
    "\n",
    "pd.set_option('precision', 3)\n",
    "pd.options.mode.chained_assignment = None\n",
    "\n",
    "utility = Utilities()\n",
    "\n",
    "%matplotlib inline"
   ]
  },
  {
   "cell_type": "markdown",
   "id": "c52349d4-48f6-45cb-8597-b07b0df457e4",
   "metadata": {},
   "source": [
    "## Importing the dataset"
   ]
  },
  {
   "cell_type": "code",
   "execution_count": 5,
   "id": "c44b8227-3a40-43d9-b9dc-f33c9689be4c",
   "metadata": {},
   "outputs": [
    {
     "data": {
      "text/html": [
       "<div>\n",
       "<style scoped>\n",
       "    .dataframe tbody tr th:only-of-type {\n",
       "        vertical-align: middle;\n",
       "    }\n",
       "\n",
       "    .dataframe tbody tr th {\n",
       "        vertical-align: top;\n",
       "    }\n",
       "\n",
       "    .dataframe thead th {\n",
       "        text-align: right;\n",
       "    }\n",
       "</style>\n",
       "<table border=\"1\" class=\"dataframe\">\n",
       "  <thead>\n",
       "    <tr style=\"text-align: right;\">\n",
       "      <th></th>\n",
       "      <th>year</th>\n",
       "      <th>month</th>\n",
       "      <th>day</th>\n",
       "      <th>CodNum</th>\n",
       "      <th>Lat</th>\n",
       "      <th>Lon</th>\n",
       "      <th>Chuva</th>\n",
       "      <th>Pres</th>\n",
       "      <th>RS</th>\n",
       "      <th>Temp</th>\n",
       "      <th>...</th>\n",
       "      <th>CO_lag24</th>\n",
       "      <th>CO_MA24</th>\n",
       "      <th>O3_lag1</th>\n",
       "      <th>O3_lag2</th>\n",
       "      <th>O3_lag24</th>\n",
       "      <th>O3_MA24</th>\n",
       "      <th>PM10_lag1</th>\n",
       "      <th>PM10_lag2</th>\n",
       "      <th>PM10_lag24</th>\n",
       "      <th>PM10_MA24</th>\n",
       "    </tr>\n",
       "  </thead>\n",
       "  <tbody>\n",
       "    <tr>\n",
       "      <th>0</th>\n",
       "      <td>2011</td>\n",
       "      <td>1</td>\n",
       "      <td>2</td>\n",
       "      <td>1</td>\n",
       "      <td>-22.965</td>\n",
       "      <td>-43.180</td>\n",
       "      <td>3.617</td>\n",
       "      <td>-1.530</td>\n",
       "      <td>-1.128</td>\n",
       "      <td>-0.140</td>\n",
       "      <td>...</td>\n",
       "      <td>-0.763</td>\n",
       "      <td>-0.936</td>\n",
       "      <td>-0.738</td>\n",
       "      <td>-0.543</td>\n",
       "      <td>-1.190</td>\n",
       "      <td>-0.365</td>\n",
       "      <td>0.101</td>\n",
       "      <td>0.078</td>\n",
       "      <td>0.087</td>\n",
       "      <td>0.082</td>\n",
       "    </tr>\n",
       "    <tr>\n",
       "      <th>1</th>\n",
       "      <td>2011</td>\n",
       "      <td>1</td>\n",
       "      <td>2</td>\n",
       "      <td>7</td>\n",
       "      <td>-22.898</td>\n",
       "      <td>-43.222</td>\n",
       "      <td>-0.272</td>\n",
       "      <td>-1.513</td>\n",
       "      <td>-0.565</td>\n",
       "      <td>0.560</td>\n",
       "      <td>...</td>\n",
       "      <td>-1.678</td>\n",
       "      <td>-1.232</td>\n",
       "      <td>-0.612</td>\n",
       "      <td>-0.997</td>\n",
       "      <td>-0.724</td>\n",
       "      <td>-0.187</td>\n",
       "      <td>-0.307</td>\n",
       "      <td>-0.967</td>\n",
       "      <td>-1.858</td>\n",
       "      <td>-1.136</td>\n",
       "    </tr>\n",
       "    <tr>\n",
       "      <th>2</th>\n",
       "      <td>2011</td>\n",
       "      <td>1</td>\n",
       "      <td>2</td>\n",
       "      <td>3</td>\n",
       "      <td>-22.908</td>\n",
       "      <td>-43.178</td>\n",
       "      <td>3.617</td>\n",
       "      <td>-1.557</td>\n",
       "      <td>-0.720</td>\n",
       "      <td>-0.470</td>\n",
       "      <td>...</td>\n",
       "      <td>-0.634</td>\n",
       "      <td>-0.166</td>\n",
       "      <td>-0.211</td>\n",
       "      <td>-0.717</td>\n",
       "      <td>-0.169</td>\n",
       "      <td>-0.027</td>\n",
       "      <td>-0.677</td>\n",
       "      <td>-0.677</td>\n",
       "      <td>-1.617</td>\n",
       "      <td>-1.141</td>\n",
       "    </tr>\n",
       "    <tr>\n",
       "      <th>3</th>\n",
       "      <td>2011</td>\n",
       "      <td>1</td>\n",
       "      <td>2</td>\n",
       "      <td>8</td>\n",
       "      <td>-22.925</td>\n",
       "      <td>-43.233</td>\n",
       "      <td>3.617</td>\n",
       "      <td>-1.909</td>\n",
       "      <td>-0.194</td>\n",
       "      <td>-1.068</td>\n",
       "      <td>...</td>\n",
       "      <td>-0.897</td>\n",
       "      <td>-1.283</td>\n",
       "      <td>-0.267</td>\n",
       "      <td>-0.184</td>\n",
       "      <td>-1.028</td>\n",
       "      <td>0.274</td>\n",
       "      <td>-0.773</td>\n",
       "      <td>-0.583</td>\n",
       "      <td>0.495</td>\n",
       "      <td>-1.061</td>\n",
       "    </tr>\n",
       "    <tr>\n",
       "      <th>4</th>\n",
       "      <td>2011</td>\n",
       "      <td>1</td>\n",
       "      <td>2</td>\n",
       "      <td>7</td>\n",
       "      <td>-22.898</td>\n",
       "      <td>-43.222</td>\n",
       "      <td>3.617</td>\n",
       "      <td>-1.658</td>\n",
       "      <td>-0.567</td>\n",
       "      <td>0.548</td>\n",
       "      <td>...</td>\n",
       "      <td>-1.591</td>\n",
       "      <td>-1.206</td>\n",
       "      <td>-1.300</td>\n",
       "      <td>-0.612</td>\n",
       "      <td>-1.099</td>\n",
       "      <td>-0.204</td>\n",
       "      <td>-0.484</td>\n",
       "      <td>-0.307</td>\n",
       "      <td>-0.967</td>\n",
       "      <td>-1.136</td>\n",
       "    </tr>\n",
       "  </tbody>\n",
       "</table>\n",
       "<p>5 rows × 34 columns</p>\n",
       "</div>"
      ],
      "text/plain": [
       "   year  month  day  CodNum     Lat     Lon  Chuva   Pres     RS   Temp  ...  \\\n",
       "0  2011      1    2       1 -22.965 -43.180  3.617 -1.530 -1.128 -0.140  ...   \n",
       "1  2011      1    2       7 -22.898 -43.222 -0.272 -1.513 -0.565  0.560  ...   \n",
       "2  2011      1    2       3 -22.908 -43.178  3.617 -1.557 -0.720 -0.470  ...   \n",
       "3  2011      1    2       8 -22.925 -43.233  3.617 -1.909 -0.194 -1.068  ...   \n",
       "4  2011      1    2       7 -22.898 -43.222  3.617 -1.658 -0.567  0.548  ...   \n",
       "\n",
       "   CO_lag24  CO_MA24  O3_lag1  O3_lag2  O3_lag24  O3_MA24  PM10_lag1  \\\n",
       "0    -0.763   -0.936   -0.738   -0.543    -1.190   -0.365      0.101   \n",
       "1    -1.678   -1.232   -0.612   -0.997    -0.724   -0.187     -0.307   \n",
       "2    -0.634   -0.166   -0.211   -0.717    -0.169   -0.027     -0.677   \n",
       "3    -0.897   -1.283   -0.267   -0.184    -1.028    0.274     -0.773   \n",
       "4    -1.591   -1.206   -1.300   -0.612    -1.099   -0.204     -0.484   \n",
       "\n",
       "   PM10_lag2  PM10_lag24  PM10_MA24  \n",
       "0      0.078       0.087      0.082  \n",
       "1     -0.967      -1.858     -1.136  \n",
       "2     -0.677      -1.617     -1.141  \n",
       "3     -0.583       0.495     -1.061  \n",
       "4     -0.307      -0.967     -1.136  \n",
       "\n",
       "[5 rows x 34 columns]"
      ]
     },
     "execution_count": 5,
     "metadata": {},
     "output_type": "execute_result"
    }
   ],
   "source": [
    "air_data = pd.read_csv(location + \"RiodeJaneiro_MonitorAr_hourly_p3.csv\", index_col = 0)\n",
    "air_data.weekend = air_data.weekend.astype(int)\n",
    "air_data = air_data.reset_index().drop(columns=\"index\")\n",
    "air_data.head()"
   ]
  },
  {
   "cell_type": "markdown",
   "id": "c20b37e0-8ef4-4bf2-806f-253a9ef58d3a",
   "metadata": {},
   "source": [
    "## Inverse Power Transformation \n",
    "\n",
    "Just for future transformations on ozone data. "
   ]
  },
  {
   "cell_type": "code",
   "execution_count": 6,
   "id": "463ee4d1-d4a0-4d9d-9c81-d18f4544e880",
   "metadata": {},
   "outputs": [],
   "source": [
    "air_data_ = pd.read_csv(location + \"RiodeJaneiro_MonitorAr_hourly_p2.csv\", index_col = 0)\n",
    "\n",
    "gases = ['CO', 'O3', 'PM10']\n",
    "\n",
    "pt_gases = {key: PowerTransformer(method = 'yeo-johnson', \n",
    "                                  standardize=True).fit(air_data_[[key]]) for key in gases}\n",
    "\n",
    "del air_data_"
   ]
  },
  {
   "cell_type": "markdown",
   "id": "32fce8e1-803f-4464-9a4a-574c657bab47",
   "metadata": {},
   "source": [
    "## Train and Test"
   ]
  },
  {
   "cell_type": "code",
   "execution_count": 7,
   "id": "60acefbb-d182-4718-89e8-0ffbda84e380",
   "metadata": {},
   "outputs": [],
   "source": [
    "df_train = air_data[air_data.train].drop(columns='train')\n",
    "df_test = air_data[~air_data.train].drop(columns='train')\n",
    "\n",
    "x_train = df_train.drop(columns=[\"O3\", 'CO', 'PM10', 'aiq', 'Lat', 'Lon'])\n",
    "x_test = df_test.drop(columns=[\"O3\", 'CO', 'PM10', 'aiq', 'Lat', 'Lon'])"
   ]
  },
  {
   "cell_type": "markdown",
   "id": "04d34ef4-0f21-49d6-a6e2-1d963df2c6a1",
   "metadata": {},
   "source": [
    "## Tijuca station\n",
    "\n",
    "The chosen station to report more detailed results."
   ]
  },
  {
   "cell_type": "code",
   "execution_count": 8,
   "id": "5d75efcb-427e-43bc-8a0e-fcdf6bfe2b25",
   "metadata": {},
   "outputs": [],
   "source": [
    "x_train_SP = x_train[x_train.CodNum == 8].drop(columns=\"CodNum\")\n",
    "x_test_SP = x_test[x_test.CodNum == 8] .drop(columns=\"CodNum\")\n",
    "\n",
    "y_train_o3 = df_train[df_train.CodNum==8].O3\n",
    "y_test_o3 = df_test[df_test.CodNum==8].O3\n",
    "y_train_co = df_train[df_train.CodNum==8].CO\n",
    "y_test_co = df_test[df_test.CodNum==8].CO\n",
    "y_train_pm10 = df_train[df_train.CodNum==8].PM10\n",
    "y_test_pm10 = df_test[df_test.CodNum==8].PM10\n",
    "y_train_aiq = df_train[df_train.CodNum==8].aiq\n",
    "y_test_aiq = df_test[df_test.CodNum==8].aiq\n",
    "\n",
    "del df_train, df_test"
   ]
  },
  {
   "cell_type": "markdown",
   "id": "08af4e80-7513-42f9-88d6-0804df5ee390",
   "metadata": {},
   "source": [
    "## Polynomial and interaction terms"
   ]
  },
  {
   "cell_type": "code",
   "execution_count": 9,
   "id": "cae709f4-f35c-4d4f-83b8-d7f6833b5c64",
   "metadata": {},
   "outputs": [],
   "source": [
    "poly = PolynomialFeatures(2)\n",
    "\n",
    "x_train_SP_poly = pd.DataFrame(poly.fit_transform(x_train_SP), \n",
    "                               columns = poly.get_feature_names(x_train_SP.columns), \n",
    "                               index = x_train_SP.index)\n",
    "x_test_SP_poly = pd.DataFrame(poly.fit_transform(x_test_SP), \n",
    "                              columns = poly.get_feature_names(x_test_SP.columns),\n",
    "                              index = x_test_SP.index)"
   ]
  },
  {
   "cell_type": "markdown",
   "id": "92772d4a-0f0b-479a-806f-9f87da9f0c11",
   "metadata": {},
   "source": [
    "## Best features"
   ]
  },
  {
   "cell_type": "code",
   "execution_count": 10,
   "id": "91fc5299-587a-4ec6-bf36-74efcb9e99a9",
   "metadata": {},
   "outputs": [],
   "source": [
    "best_features_o3 = ['year O3_lag1', 'RS', 'RS hour_cos', 'year Vel_Vento', 'O3_lag2', \n",
    "                    'year O3_MA24', 'hour_cos PM10_lag1', 'RS Temp', 'RS O3_lag2', 'O3_lag1^2']\n",
    "best_features_co = ['CO_lag1', 'hour_sin^2', 'CO_lag24', 'hour_cos', 'year Vel_Vento',\n",
    "                    'CO_MA24', 'RS PM10_lag1', 'CO_lag2', 'Vel_Vento^2']"
   ]
  },
  {
   "cell_type": "markdown",
   "id": "10bf7e60-040d-4735-9454-3e9952152e93",
   "metadata": {},
   "source": [
    "## AIQ calculus"
   ]
  },
  {
   "cell_type": "code",
   "execution_count": 46,
   "id": "7aab6d36-7050-431c-bb79-b33a37ae7df1",
   "metadata": {},
   "outputs": [],
   "source": [
    "def coef_calculator(i, gas_name): \n",
    "    \"\"\"\n",
    "    Calculate the AIQ coefficients for a specific gas and level.\n",
    "    \"\"\"\n",
    "    gas = change_points[gas_name]\n",
    "    index = change_points[\"Index\"]\n",
    "    b = (index[i]+1) - (index[i+1]-(index[i]+1))/(gas[i+1] - (gas[i]+1))*(gas[i]+1)\n",
    "    a = (index[i+1] - (index[i]+1))/(gas[i+1] - (gas[i] + 1))\n",
    "    return (a, b)\n",
    "\n",
    "change_points = {\n",
    "    \"Index\": [-1,40,80,120,200,400],\n",
    "    \"PM10\": [-1,50,100,150,250,1000],\n",
    "    \"CO\": [-1,9,11,13,15,50],\n",
    "    \"O3\": [-1,100,130,160,200,800]\n",
    "}\n",
    "\n",
    "# precalculated coefficients\n",
    "coefficients = {key: [coef_calculator(i,key) for i in range(5)] for key in [\"PM10\",\"CO\",\"O3\"]}\n",
    "\n",
    "def get_aiq_group(value): \n",
    "    for i in range(5): \n",
    "        if value <= change_points['Index'][i]:\n",
    "            return 'N' + str(i)\n",
    "    return 'N5'\n",
    "\n",
    "def calc_aic(row, gas_name):\n",
    "    value = row[gas_name]\n",
    "    for i, v in enumerate(change_points[gas_name]):\n",
    "        if value < v: \n",
    "            return coefficients[gas_name][i-1][0]*value + coefficients[gas_name][i-1][1]\n",
    "    print(row)"
   ]
  },
  {
   "cell_type": "markdown",
   "id": "fc8085d1-7419-4be2-af65-e0c1165a5dbb",
   "metadata": {},
   "source": [
    "## O3 model"
   ]
  },
  {
   "cell_type": "code",
   "execution_count": 12,
   "id": "99d011b0-aa38-49e8-91f0-e587ecfad283",
   "metadata": {},
   "outputs": [],
   "source": [
    "svr_o3 = make_pipeline(StandardScaler(), \n",
    "                    SVR(kernel = 'rbf', \n",
    "                        degree = 2, \n",
    "                        epsilon = 0.2, \n",
    "                        C = 1.0,\n",
    "                        max_iter = 200000))\n",
    "\n",
    "svr_o3.fit(x_train_SP_poly[best_features_o3], y_train_o3)"
   ]
  },
  {
   "cell_type": "markdown",
   "id": "7246da40-868d-41f7-8b7f-c79970b9f576",
   "metadata": {},
   "source": [
    "## CO model"
   ]
  },
  {
   "cell_type": "code",
   "execution_count": 13,
   "id": "e22545f1-2716-41b1-8851-1f5de2dc2284",
   "metadata": {},
   "outputs": [],
   "source": [
    "rand_forest_co = RandomForestRegressor(n_estimators = 500, \n",
    "                                       criterion = 'mse', \n",
    "                                       min_samples_split = 5, \n",
    "                                       max_features = 'sqrt',\n",
    "                                       ccp_alpha = 0.0,\n",
    "                                       n_jobs = 2)\n",
    "\n",
    "rand_forest_co.fit(x_train_SP_poly[best_features_co], y_train_co)"
   ]
  },
  {
   "cell_type": "markdown",
   "id": "a85cdbd1-a2f3-463f-9948-b6b65571e808",
   "metadata": {},
   "source": [
    "## PM10 model"
   ]
  },
  {
   "cell_type": "code",
   "execution_count": 14,
   "id": "f8d19868-1332-4f53-959c-16696eeb37bf",
   "metadata": {},
   "outputs": [],
   "source": [
    "rand_forest_pm10 = RandomForestRegressor(n_estimators = 500, \n",
    "                                    criterion = 'mse', \n",
    "                                    min_samples_split = 10, \n",
    "                                    max_features = 'sqrt',\n",
    "                                    ccp_alpha = 0.0,\n",
    "                                    n_jobs = 2,\n",
    "                                    )\n",
    "rand_forest_pm10.fit(x_train_SP, y_train_pm10)"
   ]
  },
  {
   "cell_type": "markdown",
   "id": "bd993dd1-3be8-44cc-96db-c5495eea6760",
   "metadata": {},
   "source": [
    "## AIQ Model"
   ]
  },
  {
   "cell_type": "code",
   "execution_count": null,
   "id": "d0ae6239-e028-4e50-a296-4afb51ac7f30",
   "metadata": {},
   "outputs": [],
   "source": [
    "y_pred_o3 = svr_o3.predict(x_test_SP_poly[best_features_o3])\n",
    "y_pred_co = rand_forest_co.predict(x_test_SP_poly[best_features_co])\n",
    "y_pred_pm10 = rand_forest_pm10.predict(x_test_SP)\n",
    "\n",
    "y_pred_train_o3 = svr_o3.predict(x_train_SP_poly[best_features_o3])\n",
    "y_pred_train_co = rand_forest_co.predict(x_train_SP_poly[best_features_co])\n",
    "y_pred_train_pm10 = rand_forest_pm10.predict(x_train_SP)"
   ]
  },
  {
   "cell_type": "code",
   "execution_count": 33,
   "id": "067bbaf2-ec1e-48f1-a979-0ec851e536c8",
   "metadata": {},
   "outputs": [],
   "source": [
    "transformed = pd.DataFrame({\n",
    "    'O3': pt_gases['O3'].inverse_transform(y_pred_o3.reshape(-1,1)).flatten(),\n",
    "    'CO': pt_gases['CO'].inverse_transform(y_pred_co.reshape(-1,1)).flatten(),\n",
    "    'PM10': pt_gases['PM10'].inverse_transform(y_pred_pm10.reshape(-1,1)).flatten(),\n",
    "    }\n",
    ")\n",
    "transformed_train = pd.DataFrame({\n",
    "    'O3': pt_gases['O3'].inverse_transform(y_pred_train_o3.reshape(-1,1)).flatten(),\n",
    "    'CO': pt_gases['CO'].inverse_transform(y_pred_train_co.reshape(-1,1)).flatten(),\n",
    "    'PM10': pt_gases['PM10'].inverse_transform(y_pred_train_pm10.reshape(-1,1)).flatten()\n",
    "})\n",
    "\n",
    "transformed[\"aiq\"] = transformed.apply(lambda row: max(calc_aic(row, \"O3\"), \n",
    "                                                       calc_aic(row, \"CO\"), \n",
    "                                                       calc_aic(row, \"PM10\")), \n",
    "                                       axis = 1)\n",
    "transformed_train[\"aiq\"] = transformed_train.apply(lambda row: max(calc_aic(row, \"O3\"), \n",
    "                                                                   calc_aic(row, \"CO\"), \n",
    "                                                                   calc_aic(row, \"PM10\")), \n",
    "                                                   axis = 1)"
   ]
  },
  {
   "cell_type": "code",
   "execution_count": 35,
   "id": "64bb1c94-4b39-4d30-9a63-8e1fca964c76",
   "metadata": {},
   "outputs": [
    {
     "name": "stdout",
     "output_type": "stream",
     "text": [
      "R2 train set: 0.8891585786699359\n",
      "MAE train set: 3.0592247054520656\n",
      "RMSE train set: 5.82456500571222\n",
      "R2 test set: 0.7462250808476643\n",
      "MAE test set: 3.956236272674714\n",
      "RMSE test set: 6.874891521262451\n"
     ]
    }
   ],
   "source": [
    "r2_train = r2_score(y_train_aiq, transformed_train[\"aiq\"] )\n",
    "r2_test  = r2_score(y_test_aiq, transformed[\"aiq\"])\n",
    "mae_train = mean_absolute_error(y_train_aiq, transformed_train[\"aiq\"] )\n",
    "mae_test  = mean_absolute_error(y_test_aiq, transformed[\"aiq\"])\n",
    "rmse_train = mean_squared_error(y_train_aiq, transformed_train[\"aiq\"], squared = False)\n",
    "rmse_test  = mean_squared_error(y_test_aiq, transformed[\"aiq\"], squared = False)\n",
    " \n",
    "utility.print_results(r2_train, r2_test, mae_train, mae_test, rmse_train, rmse_test)"
   ]
  },
  {
   "cell_type": "code",
   "execution_count": 57,
   "id": "48ef9628-33c7-4e77-8509-6e6bbe35f0fd",
   "metadata": {},
   "outputs": [
    {
     "data": {
      "image/png": "[encoded data removed]",
      "text/plain": [
       "<Figure size 432x288 with 1 Axes>"
      ]
     },
     "metadata": {
      "needs_background": "light"
     },
     "output_type": "display_data"
    }
   ],
   "source": [
    "plt.scatter(y_test_aiq, transformed.aiq, s=2, color = 'limegreen')\n",
    "plt.plot(range(0,200),range(0,200), color = 'red')\n",
    "plt.xlabel(\"Observed AIQ\")\n",
    "plt.ylabel(\"Predicted AIQ\")\n",
    "plt.title(\"Comparing observed values with predicted values\");\n",
    "plt.savefig(IMAGES_FOLDER + 'observed-vs-predicted-aiq.eps', bbox_inches = 'tight')"
   ]
  },
  {
   "cell_type": "markdown",
   "id": "72783a1c-755e-498f-9cc1-94a8a741db56",
   "metadata": {},
   "source": [
    "## Final model"
   ]
  },
  {
   "cell_type": "code",
   "execution_count": 16,
   "id": "3d58e3ee-f592-47bc-86d6-8ece8192765f",
   "metadata": {},
   "outputs": [],
   "source": [
    "air_data_SP = air_data[air_data.CodNum == 8].drop(columns=['Lat', 'Lon', 'train', 'CodNum']).reset_index(drop=True)\n",
    "\n",
    "y_train_o3 = air_data_SP.O3\n",
    "y_train_co = air_data_SP.CO\n",
    "y_train_pm10 = air_data_SP.PM10\n",
    "y_train_aiq = air_data_SP.aiq\n",
    "\n",
    "air_data_SP.drop(columns=[\"O3\", 'CO', 'PM10', 'aiq'], inplace = True)\n",
    "\n",
    "air_data_SP_poly = pd.DataFrame(poly.fit_transform(air_data_SP), \n",
    "                                columns = poly.get_feature_names(air_data_SP.columns), \n",
    "                                index = air_data_SP.index)"
   ]
  },
  {
   "cell_type": "code",
   "execution_count": 17,
   "id": "56082529-a99a-4056-b985-eab06691126b",
   "metadata": {},
   "outputs": [
    {
     "data": {
      "text/plain": [
       "RandomForestRegressor(max_features='sqrt', min_samples_split=10,\n",
       "                      n_estimators=500, n_jobs=2)"
      ]
     },
     "execution_count": 17,
     "metadata": {},
     "output_type": "execute_result"
    }
   ],
   "source": [
    "svr_o3.fit(air_data_SP_poly[best_features_o3], y_train_o3)\n",
    "rand_forest_co.fit(air_data_SP_poly[best_features_co], y_train_co)\n",
    "rand_forest_pm10.fit(air_data_SP, y_train_pm10)"
   ]
  },
  {
   "cell_type": "markdown",
   "id": "1dcd968e-4169-4eea-ab32-a6e8c80856c3",
   "metadata": {},
   "source": [
    "## AIQ Model"
   ]
  },
  {
   "cell_type": "code",
   "execution_count": 18,
   "id": "a0c5793a-5817-415a-a7a7-8bff8502c581",
   "metadata": {},
   "outputs": [],
   "source": [
    "y_pred_o3 = svr_o3.predict(air_data_SP_poly[best_features_o3])\n",
    "y_pred_co = rand_forest_co.predict(air_data_SP_poly[best_features_co])\n",
    "y_pred_pm10 = rand_forest_pm10.predict(air_data_SP)"
   ]
  },
  {
   "cell_type": "code",
   "execution_count": 56,
   "id": "7b51c6fc-cbf4-4c2d-b32f-f150bfdfc6d8",
   "metadata": {},
   "outputs": [],
   "source": [
    "transformed = pd.DataFrame({\n",
    "    'O3': pt_gases['O3'].inverse_transform(y_pred_o3.reshape(-1,1)).flatten(),\n",
    "    'CO': pt_gases['CO'].inverse_transform(y_pred_co.reshape(-1,1)).flatten(),\n",
    "    'PM10': pt_gases['PM10'].inverse_transform(y_pred_pm10.reshape(-1,1)).flatten(),\n",
    "    }\n",
    ")\n",
    "\n",
    "transformed[\"aiq\"] = transformed.apply(lambda row: max(calc_aic(row, \"O3\"), \n",
    "                                                       calc_aic(row, \"CO\"), \n",
    "                                                       calc_aic(row, \"PM10\")), \n",
    "                                       axis = 1)\n",
    "\n",
    "transformed[['year','month']] = air_data_SP[['year','month']]\n",
    "transformed['AIQ Level'] = transformed.aiq.apply(get_aiq_group)"
   ]
  },
  {
   "cell_type": "code",
   "execution_count": 69,
   "id": "15d50673-8f5e-4609-b1ca-0abf5ea73d51",
   "metadata": {},
   "outputs": [
    {
     "name": "stderr",
     "output_type": "stream",
     "text": [
      "The PostScript backend does not support transparency; partially transparent artists will be rendered opaque.\n",
      "The PostScript backend does not support transparency; partially transparent artists will be rendered opaque.\n",
      "The PostScript backend does not support transparency; partially transparent artists will be rendered opaque.\n",
      "The PostScript backend does not support transparency; partially transparent artists will be rendered opaque.\n"
     ]
    },
    {
     "data": {
      "image/png": "[encoded data removed]",
      "text/plain": [
       "<Figure size 360x504 with 2 Axes>"
      ]
     },
     "metadata": {
      "needs_background": "light"
     },
     "output_type": "display_data"
    }
   ],
   "source": [
    "fig, ax = plt.subplots(2,1,figsize = (5,7))\n",
    "(transformed.groupby('year')['AIQ Level'].value_counts(normalize=True)\n",
    "    .unstack('AIQ Level').plot.bar(stacked=True, ax=ax[0], \n",
    "                                   color = ['green','yellow','orange','red','purple'])\n",
    ")\n",
    "(transformed.groupby('month')['AIQ Level'].value_counts(normalize=True)\n",
    "    .unstack('AIQ Level').plot.bar(stacked=True, ax=ax[1],\n",
    "                                   color = ['green','yellow','orange','red','purple'])\n",
    ")\n",
    "ax[0].legend(loc = 'lower left')\n",
    "ax[1].legend(loc = 'lower left')\n",
    "fig.tight_layout(pad=1.0)\n",
    "\n",
    "plt.savefig(IMAGES_FOLDER+\"aiq-time.eps\", bbox_inches='tight')"
   ]
  },
  {
   "cell_type": "code",
   "execution_count": 70,
   "id": "73a208c3-4c94-4cc9-b060-d8b0588f3d89",
   "metadata": {},
   "outputs": [],
   "source": [
    "air_data_SP['aqi_level'] = air_data.aiq.apply(get_aiq_group)"
   ]
  },
  {
   "cell_type": "code",
   "execution_count": 76,
   "id": "c615d558-852f-464e-9a53-745159684a4e",
   "metadata": {},
   "outputs": [
    {
     "name": "stderr",
     "output_type": "stream",
     "text": [
      "The PostScript backend does not support transparency; partially transparent artists will be rendered opaque.\n",
      "The PostScript backend does not support transparency; partially transparent artists will be rendered opaque.\n",
      "The PostScript backend does not support transparency; partially transparent artists will be rendered opaque.\n",
      "The PostScript backend does not support transparency; partially transparent artists will be rendered opaque.\n"
     ]
    },
    {
     "data": {
      "image/png": "[encoded data removed]",
      "text/plain": [
       "<Figure size 360x504 with 2 Axes>"
      ]
     },
     "metadata": {
      "needs_background": "light"
     },
     "output_type": "display_data"
    }
   ],
   "source": [
    "fig, ax = plt.subplots(2,1,figsize = (5,7))\n",
    "(air_data_SP.groupby('year')['aqi_level'].value_counts(normalize=True)\n",
    "    .unstack('aqi_level').plot.bar(stacked=True, ax=ax[0], \n",
    "                                   color = ['green','yellow','orange','red','purple'])\n",
    ")\n",
    "(air_data_SP.groupby('month')['aqi_level'].value_counts(normalize=True)\n",
    "    .unstack('aqi_level').plot.bar(stacked=True, ax=ax[1],\n",
    "                                   color = ['green','yellow','orange','red','purple'])\n",
    ")\n",
    "ax[0].legend(loc = 'lower left')\n",
    "ax[1].legend(loc = 'lower left')\n",
    "fig.tight_layout(pad=1.0)\n",
    "\n",
    "plt.savefig(IMAGES_FOLDER+\"aiq-time-observed.eps\", bbox_inches='tight')"
   ]
  }
 ],
 "metadata": {
  "kernelspec": {
   "display_name": "machineLearning",
   "language": "python",
   "name": "machinelearning"
  },
  "language_info": {
   "codemirror_mode": {
    "name": "ipython",
    "version": 3
   },
   "file_extension": ".py",
   "mimetype": "text/x-python",
   "name": "python",
   "nbconvert_exporter": "python",
   "pygments_lexer": "ipython3",
   "version": "3.9.4"
  }
 },
 "nbformat": 4,
 "nbformat_minor": 5
}
